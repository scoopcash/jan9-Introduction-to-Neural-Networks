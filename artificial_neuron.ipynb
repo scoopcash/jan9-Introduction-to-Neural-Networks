{
  "cells": [
    {
      "cell_type": "markdown",
      "metadata": {
        "id": "view-in-github",
        "colab_type": "text"
      },
      "source": [
        "<a href=\"https://colab.research.google.com/github/scoopcash/jan9-Introduction-to-Neural-Networks/blob/main/artificial_neuron.ipynb\" target=\"_parent\"><img src=\"https://colab.research.google.com/assets/colab-badge.svg\" alt=\"Open In Colab\"/></a>"
      ]
    },
    {
      "cell_type": "markdown",
      "metadata": {
        "id": "NeeonNlQ8leR"
      },
      "source": [
        "# Activating Your First Artificial Neuron"
      ]
    },
    {
      "cell_type": "code",
      "execution_count": 1,
      "metadata": {
        "id": "V355DQOV8leS"
      },
      "outputs": [],
      "source": [
        "# Initial imports\n",
        "import pandas as pd\n",
        "import numpy as np\n",
        "from sklearn.datasets import make_blobs, make_moons\n",
        "from sklearn.model_selection import train_test_split\n",
        "from sklearn.preprocessing import StandardScaler\n",
        "from tensorflow.keras.models import Sequential\n",
        "from tensorflow.keras.layers import Dense\n",
        "\n",
        "%matplotlib inline"
      ]
    },
    {
      "cell_type": "markdown",
      "metadata": {
        "id": "H6M1XWBV8leT"
      },
      "source": [
        "## Using a Single Neuron for Binary Classification\n",
        "\n",
        "### Creating Dummy Data"
      ]
    },
    {
      "cell_type": "code",
      "execution_count": 2,
      "metadata": {
        "id": "tcn0gWol8leT"
      },
      "outputs": [],
      "source": [
        "# Generate 1000 demo data samples with 2 features and two centers\n",
        "\n",
        "X, y = make_blobs(n_samples=1000, centers=2, n_features=2, random_state=78)"
      ]
    },
    {
      "cell_type": "code",
      "execution_count": 5,
      "metadata": {
        "colab": {
          "base_uri": "https://localhost:8080/"
        },
        "id": "fz93hdda8leT",
        "outputId": "2e54315a-e670-477e-fb32-f999299822da"
      },
      "outputs": [
        {
          "output_type": "execute_result",
          "data": {
            "text/plain": [
              "(1000, 1)"
            ]
          },
          "metadata": {},
          "execution_count": 5
        }
      ],
      "source": [
        "# Transforming y to a vertical vector\n",
        "\n",
        "y = y.reshape(-1,1)\n",
        "y.shape"
      ]
    },
    {
      "cell_type": "code",
      "execution_count": 6,
      "metadata": {
        "colab": {
          "base_uri": "https://localhost:8080/",
          "height": 206
        },
        "id": "ztMqmlz18leT",
        "outputId": "2cee02eb-f572-4186-a3de-069fdb24356f"
      },
      "outputs": [
        {
          "output_type": "execute_result",
          "data": {
            "text/plain": [
              "   Feature 1  Feature 2  Target\n",
              "0   5.478098   7.203714       1\n",
              "1  -8.428483   4.121889       0\n",
              "2  -7.905447   3.323639       0\n",
              "3   6.411041   5.523013       1\n",
              "4   7.288599   6.171226       1"
            ],
            "text/html": [
              "\n",
              "  <div id=\"df-927859a6-c169-428e-b9a8-4a4cabd6d931\">\n",
              "    <div class=\"colab-df-container\">\n",
              "      <div>\n",
              "<style scoped>\n",
              "    .dataframe tbody tr th:only-of-type {\n",
              "        vertical-align: middle;\n",
              "    }\n",
              "\n",
              "    .dataframe tbody tr th {\n",
              "        vertical-align: top;\n",
              "    }\n",
              "\n",
              "    .dataframe thead th {\n",
              "        text-align: right;\n",
              "    }\n",
              "</style>\n",
              "<table border=\"1\" class=\"dataframe\">\n",
              "  <thead>\n",
              "    <tr style=\"text-align: right;\">\n",
              "      <th></th>\n",
              "      <th>Feature 1</th>\n",
              "      <th>Feature 2</th>\n",
              "      <th>Target</th>\n",
              "    </tr>\n",
              "  </thead>\n",
              "  <tbody>\n",
              "    <tr>\n",
              "      <th>0</th>\n",
              "      <td>5.478098</td>\n",
              "      <td>7.203714</td>\n",
              "      <td>1</td>\n",
              "    </tr>\n",
              "    <tr>\n",
              "      <th>1</th>\n",
              "      <td>-8.428483</td>\n",
              "      <td>4.121889</td>\n",
              "      <td>0</td>\n",
              "    </tr>\n",
              "    <tr>\n",
              "      <th>2</th>\n",
              "      <td>-7.905447</td>\n",
              "      <td>3.323639</td>\n",
              "      <td>0</td>\n",
              "    </tr>\n",
              "    <tr>\n",
              "      <th>3</th>\n",
              "      <td>6.411041</td>\n",
              "      <td>5.523013</td>\n",
              "      <td>1</td>\n",
              "    </tr>\n",
              "    <tr>\n",
              "      <th>4</th>\n",
              "      <td>7.288599</td>\n",
              "      <td>6.171226</td>\n",
              "      <td>1</td>\n",
              "    </tr>\n",
              "  </tbody>\n",
              "</table>\n",
              "</div>\n",
              "      <button class=\"colab-df-convert\" onclick=\"convertToInteractive('df-927859a6-c169-428e-b9a8-4a4cabd6d931')\"\n",
              "              title=\"Convert this dataframe to an interactive table.\"\n",
              "              style=\"display:none;\">\n",
              "        \n",
              "  <svg xmlns=\"http://www.w3.org/2000/svg\" height=\"24px\"viewBox=\"0 0 24 24\"\n",
              "       width=\"24px\">\n",
              "    <path d=\"M0 0h24v24H0V0z\" fill=\"none\"/>\n",
              "    <path d=\"M18.56 5.44l.94 2.06.94-2.06 2.06-.94-2.06-.94-.94-2.06-.94 2.06-2.06.94zm-11 1L8.5 8.5l.94-2.06 2.06-.94-2.06-.94L8.5 2.5l-.94 2.06-2.06.94zm10 10l.94 2.06.94-2.06 2.06-.94-2.06-.94-.94-2.06-.94 2.06-2.06.94z\"/><path d=\"M17.41 7.96l-1.37-1.37c-.4-.4-.92-.59-1.43-.59-.52 0-1.04.2-1.43.59L10.3 9.45l-7.72 7.72c-.78.78-.78 2.05 0 2.83L4 21.41c.39.39.9.59 1.41.59.51 0 1.02-.2 1.41-.59l7.78-7.78 2.81-2.81c.8-.78.8-2.07 0-2.86zM5.41 20L4 18.59l7.72-7.72 1.47 1.35L5.41 20z\"/>\n",
              "  </svg>\n",
              "      </button>\n",
              "      \n",
              "  <style>\n",
              "    .colab-df-container {\n",
              "      display:flex;\n",
              "      flex-wrap:wrap;\n",
              "      gap: 12px;\n",
              "    }\n",
              "\n",
              "    .colab-df-convert {\n",
              "      background-color: #E8F0FE;\n",
              "      border: none;\n",
              "      border-radius: 50%;\n",
              "      cursor: pointer;\n",
              "      display: none;\n",
              "      fill: #1967D2;\n",
              "      height: 32px;\n",
              "      padding: 0 0 0 0;\n",
              "      width: 32px;\n",
              "    }\n",
              "\n",
              "    .colab-df-convert:hover {\n",
              "      background-color: #E2EBFA;\n",
              "      box-shadow: 0px 1px 2px rgba(60, 64, 67, 0.3), 0px 1px 3px 1px rgba(60, 64, 67, 0.15);\n",
              "      fill: #174EA6;\n",
              "    }\n",
              "\n",
              "    [theme=dark] .colab-df-convert {\n",
              "      background-color: #3B4455;\n",
              "      fill: #D2E3FC;\n",
              "    }\n",
              "\n",
              "    [theme=dark] .colab-df-convert:hover {\n",
              "      background-color: #434B5C;\n",
              "      box-shadow: 0px 1px 3px 1px rgba(0, 0, 0, 0.15);\n",
              "      filter: drop-shadow(0px 1px 2px rgba(0, 0, 0, 0.3));\n",
              "      fill: #FFFFFF;\n",
              "    }\n",
              "  </style>\n",
              "\n",
              "      <script>\n",
              "        const buttonEl =\n",
              "          document.querySelector('#df-927859a6-c169-428e-b9a8-4a4cabd6d931 button.colab-df-convert');\n",
              "        buttonEl.style.display =\n",
              "          google.colab.kernel.accessAllowed ? 'block' : 'none';\n",
              "\n",
              "        async function convertToInteractive(key) {\n",
              "          const element = document.querySelector('#df-927859a6-c169-428e-b9a8-4a4cabd6d931');\n",
              "          const dataTable =\n",
              "            await google.colab.kernel.invokeFunction('convertToInteractive',\n",
              "                                                     [key], {});\n",
              "          if (!dataTable) return;\n",
              "\n",
              "          const docLinkHtml = 'Like what you see? Visit the ' +\n",
              "            '<a target=\"_blank\" href=https://colab.research.google.com/notebooks/data_table.ipynb>data table notebook</a>'\n",
              "            + ' to learn more about interactive tables.';\n",
              "          element.innerHTML = '';\n",
              "          dataTable['output_type'] = 'display_data';\n",
              "          await google.colab.output.renderOutput(dataTable, element);\n",
              "          const docLink = document.createElement('div');\n",
              "          docLink.innerHTML = docLinkHtml;\n",
              "          element.appendChild(docLink);\n",
              "        }\n",
              "      </script>\n",
              "    </div>\n",
              "  </div>\n",
              "  "
            ]
          },
          "metadata": {},
          "execution_count": 6
        }
      ],
      "source": [
        "# Creating a DataFrame with the dummy data\n",
        "\n",
        "df = pd.DataFrame(X, columns=['Feature 1', 'Feature 2'])\n",
        "df['Target'] = y\n",
        "df.head()"
      ]
    },
    {
      "cell_type": "code",
      "execution_count": 8,
      "metadata": {
        "colab": {
          "base_uri": "https://localhost:8080/",
          "height": 276
        },
        "id": "cZffjkVl8leT",
        "outputId": "51dc55ed-a7ff-49b0-fecb-bc7ab7b73577"
      },
      "outputs": [
        {
          "output_type": "execute_result",
          "data": {
            "text/plain": [
              "<matplotlib.axes._subplots.AxesSubplot at 0x7f2220e7ee50>"
            ]
          },
          "metadata": {},
          "execution_count": 8
        },
        {
          "output_type": "display_data",
          "data": {
            "text/plain": [
              "<Figure size 432x288 with 2 Axes>"
            ],
            "image/png": "[encoded data removed]"
          },
          "metadata": {
            "needs_background": "light"
          }
        }
      ],
      "source": [
        "# Plotting the dummy data\n",
        "df.plot.scatter(x=\"Feature 1\", y=\"Feature 2\", c=\"Target\", colormap = \"winter\")\n"
      ]
    },
    {
      "cell_type": "markdown",
      "metadata": {
        "id": "qmN_HmdB8leT"
      },
      "source": [
        " ### Data Preprocessing\n",
        "\n",
        " Use `train_test_split` to create training and testing data."
      ]
    },
    {
      "cell_type": "code",
      "execution_count": 9,
      "metadata": {
        "id": "eb-Qn4XI8leT"
      },
      "outputs": [],
      "source": [
        "# Create training and testing datasets\n",
        "X_train, X_test, y_train, y_test = train_test_split(X,y, random_state=78)\n"
      ]
    },
    {
      "cell_type": "markdown",
      "metadata": {
        "id": "jnygukzB8leU"
      },
      "source": [
        " Scale the data using the `StandarScaler`."
      ]
    },
    {
      "cell_type": "code",
      "execution_count": 10,
      "metadata": {
        "id": "U7YKgZvr8leU"
      },
      "outputs": [],
      "source": [
        "# Create scaler instance\n",
        "X_scaler = StandardScaler()\n"
      ]
    },
    {
      "cell_type": "code",
      "execution_count": 12,
      "metadata": {
        "colab": {
          "base_uri": "https://localhost:8080/"
        },
        "id": "MRl27K3w8leU",
        "outputId": "9ea6c86b-c008-4ca8-e128-e79001f82694"
      },
      "outputs": [
        {
          "output_type": "execute_result",
          "data": {
            "text/plain": [
              "StandardScaler()"
            ]
          },
          "metadata": {},
          "execution_count": 12
        }
      ],
      "source": [
        "# Fit the scaler\n",
        "X_scaler.fit(X_train)\n"
      ]
    },
    {
      "cell_type": "code",
      "execution_count": 13,
      "metadata": {
        "id": "j-Ys0Vzw8leU"
      },
      "outputs": [],
      "source": [
        "# Scale the data\n",
        "X_train_scaled = X_scaler.transform(X_train)\n",
        "X_test_scaled = X_scaler.transform(X_test)\n"
      ]
    },
    {
      "cell_type": "markdown",
      "metadata": {
        "id": "vJBpxquF8leU"
      },
      "source": [
        " ### Neural Network Model Creation"
      ]
    },
    {
      "cell_type": "code",
      "execution_count": 14,
      "metadata": {
        "id": "6TA21SGn8leU"
      },
      "outputs": [],
      "source": [
        "# Create a sequential model\n",
        "\n",
        "neuron = Sequential()"
      ]
    },
    {
      "cell_type": "markdown",
      "metadata": {
        "id": "mJRlbiBX8leU"
      },
      "source": [
        "The initial step is to add the first layer of our neural network.\n",
        "\n",
        "![First Layer](../![tensorflow-neuron-layer-1.png](data:image/png;base64,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)content/tensorflow-neuron-layer-1.png)"
      ]
    },
    {
      "cell_type": "code",
      "execution_count": 16,
      "metadata": {
        "id": "_1trTAc38leU"
      },
      "outputs": [],
      "source": [
        "# First layer\n",
        "number_inputs = 2\n",
        "number_hidden_nodes = 1\n",
        "\n",
        "neuron.add(Dense(units=number_hidden_nodes, activation= 'relu', input_dim= number_inputs))\n"
      ]
    },
    {
      "cell_type": "markdown",
      "metadata": {
        "id": "4yU19tzY8leU"
      },
      "source": [
        "We finish creating our neural network by adding the output layer.\n",
        "\n",
        "![Output layer](../content/tensorflow-neuron-output-layer.png![tensorflow-neuron-output-layer.png](data:image/png;base64,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))"
      ]
    },
    {
      "cell_type": "code",
      "execution_count": 17,
      "metadata": {
        "id": "nzA-XqB18leV"
      },
      "outputs": [],
      "source": [
        "# Output layer\n",
        "number_classes = 1\n",
        "neuron.add(Dense(units= number_classes, activation='sigmoid'))\n"
      ]
    },
    {
      "cell_type": "code",
      "execution_count": 18,
      "metadata": {
        "colab": {
          "base_uri": "https://localhost:8080/"
        },
        "id": "NEPwt5Wb8leV",
        "outputId": "fe4b6703-593b-4e60-e6ab-39ce42ac51d2"
      },
      "outputs": [
        {
          "output_type": "stream",
          "name": "stdout",
          "text": [
            "Model: \"sequential\"\n",
            "_________________________________________________________________\n",
            " Layer (type)                Output Shape              Param #   \n",
            "=================================================================\n",
            " dense (Dense)               (None, 1)                 3         \n",
            "                                                                 \n",
            " dense_1 (Dense)             (None, 1)                 2         \n",
            "                                                                 \n",
            "=================================================================\n",
            "Total params: 5\n",
            "Trainable params: 5\n",
            "Non-trainable params: 0\n",
            "_________________________________________________________________\n"
          ]
        }
      ],
      "source": [
        "# Model summary\n",
        "neuron.summary()\n"
      ]
    },
    {
      "cell_type": "markdown",
      "metadata": {
        "id": "4g7BrLVu8leV"
      },
      "source": [
        " ### Compile the Model"
      ]
    },
    {
      "cell_type": "code",
      "execution_count": 19,
      "metadata": {
        "id": "KgSpyx_k8leV"
      },
      "outputs": [],
      "source": [
        "# Compile model\n",
        "neuron.compile(loss='binary_crossentropy', optimizer='adam', metrics=['accuracy'])\n"
      ]
    },
    {
      "cell_type": "markdown",
      "metadata": {
        "id": "jKnCX5My8leV"
      },
      "source": [
        " ### Fit the Model"
      ]
    },
    {
      "cell_type": "code",
      "execution_count": 20,
      "metadata": {
        "colab": {
          "base_uri": "https://localhost:8080/"
        },
        "id": "DsyZUruW8leV",
        "outputId": "e18b5c1b-cf8e-45e5-a61f-e4853176a3a3"
      },
      "outputs": [
        {
          "output_type": "stream",
          "name": "stdout",
          "text": [
            "Epoch 1/100\n",
            "24/24 [==============================] - 1s 2ms/step - loss: 0.5856 - accuracy: 0.9173\n",
            "Epoch 2/100\n",
            "24/24 [==============================] - 0s 2ms/step - loss: 0.5749 - accuracy: 0.9587\n",
            "Epoch 3/100\n",
            "24/24 [==============================] - 0s 2ms/step - loss: 0.5637 - accuracy: 0.9587\n",
            "Epoch 4/100\n",
            "24/24 [==============================] - 0s 2ms/step - loss: 0.5523 - accuracy: 0.9613\n",
            "Epoch 5/100\n",
            "24/24 [==============================] - 0s 2ms/step - loss: 0.5406 - accuracy: 0.9613\n",
            "Epoch 6/100\n",
            "24/24 [==============================] - 0s 2ms/step - loss: 0.5287 - accuracy: 0.9627\n",
            "Epoch 7/100\n",
            "24/24 [==============================] - 0s 2ms/step - loss: 0.5167 - accuracy: 0.9627\n",
            "Epoch 8/100\n",
            "24/24 [==============================] - 0s 2ms/step - loss: 0.5048 - accuracy: 0.9640\n",
            "Epoch 9/100\n",
            "24/24 [==============================] - 0s 2ms/step - loss: 0.4928 - accuracy: 0.9653\n",
            "Epoch 10/100\n",
            "24/24 [==============================] - 0s 2ms/step - loss: 0.4809 - accuracy: 0.9653\n",
            "Epoch 11/100\n",
            "24/24 [==============================] - 0s 3ms/step - loss: 0.4690 - accuracy: 0.9667\n",
            "Epoch 12/100\n",
            "24/24 [==============================] - 0s 2ms/step - loss: 0.4575 - accuracy: 0.9693\n",
            "Epoch 13/100\n",
            "24/24 [==============================] - 0s 2ms/step - loss: 0.4460 - accuracy: 0.9707\n",
            "Epoch 14/100\n",
            "24/24 [==============================] - 0s 2ms/step - loss: 0.4347 - accuracy: 0.9747\n",
            "Epoch 15/100\n",
            "24/24 [==============================] - 0s 2ms/step - loss: 0.4238 - accuracy: 0.9760\n",
            "Epoch 16/100\n",
            "24/24 [==============================] - 0s 2ms/step - loss: 0.4130 - accuracy: 0.9760\n",
            "Epoch 17/100\n",
            "24/24 [==============================] - 0s 2ms/step - loss: 0.4025 - accuracy: 0.9773\n",
            "Epoch 18/100\n",
            "24/24 [==============================] - 0s 2ms/step - loss: 0.3924 - accuracy: 0.9787\n",
            "Epoch 19/100\n",
            "24/24 [==============================] - 0s 2ms/step - loss: 0.3824 - accuracy: 0.9800\n",
            "Epoch 20/100\n",
            "24/24 [==============================] - 0s 2ms/step - loss: 0.3728 - accuracy: 0.9800\n",
            "Epoch 21/100\n",
            "24/24 [==============================] - 0s 2ms/step - loss: 0.3635 - accuracy: 0.9813\n",
            "Epoch 22/100\n",
            "24/24 [==============================] - 0s 2ms/step - loss: 0.3544 - accuracy: 0.9840\n",
            "Epoch 23/100\n",
            "24/24 [==============================] - 0s 2ms/step - loss: 0.3457 - accuracy: 0.9840\n",
            "Epoch 24/100\n",
            "24/24 [==============================] - 0s 2ms/step - loss: 0.3371 - accuracy: 0.9840\n",
            "Epoch 25/100\n",
            "24/24 [==============================] - 0s 2ms/step - loss: 0.3289 - accuracy: 0.9853\n",
            "Epoch 26/100\n",
            "24/24 [==============================] - 0s 2ms/step - loss: 0.3210 - accuracy: 0.9853\n",
            "Epoch 27/100\n",
            "24/24 [==============================] - 0s 2ms/step - loss: 0.3133 - accuracy: 0.9853\n",
            "Epoch 28/100\n",
            "24/24 [==============================] - 0s 2ms/step - loss: 0.3058 - accuracy: 0.9853\n",
            "Epoch 29/100\n",
            "24/24 [==============================] - 0s 2ms/step - loss: 0.2985 - accuracy: 0.9853\n",
            "Epoch 30/100\n",
            "24/24 [==============================] - 0s 2ms/step - loss: 0.2914 - accuracy: 0.9853\n",
            "Epoch 31/100\n",
            "24/24 [==============================] - 0s 2ms/step - loss: 0.2845 - accuracy: 0.9853\n",
            "Epoch 32/100\n",
            "24/24 [==============================] - 0s 2ms/step - loss: 0.2778 - accuracy: 0.9867\n",
            "Epoch 33/100\n",
            "24/24 [==============================] - 0s 2ms/step - loss: 0.2714 - accuracy: 0.9867\n",
            "Epoch 34/100\n",
            "24/24 [==============================] - 0s 2ms/step - loss: 0.2651 - accuracy: 0.9893\n",
            "Epoch 35/100\n",
            "24/24 [==============================] - 0s 2ms/step - loss: 0.2590 - accuracy: 0.9907\n",
            "Epoch 36/100\n",
            "24/24 [==============================] - 0s 2ms/step - loss: 0.2531 - accuracy: 0.9920\n",
            "Epoch 37/100\n",
            "24/24 [==============================] - 0s 2ms/step - loss: 0.2473 - accuracy: 0.9920\n",
            "Epoch 38/100\n",
            "24/24 [==============================] - 0s 2ms/step - loss: 0.2417 - accuracy: 0.9920\n",
            "Epoch 39/100\n",
            "24/24 [==============================] - 0s 2ms/step - loss: 0.2362 - accuracy: 0.9920\n",
            "Epoch 40/100\n",
            "24/24 [==============================] - 0s 2ms/step - loss: 0.2310 - accuracy: 0.9920\n",
            "Epoch 41/100\n",
            "24/24 [==============================] - 0s 2ms/step - loss: 0.2258 - accuracy: 0.9920\n",
            "Epoch 42/100\n",
            "24/24 [==============================] - 0s 2ms/step - loss: 0.2208 - accuracy: 0.9920\n",
            "Epoch 43/100\n",
            "24/24 [==============================] - 0s 2ms/step - loss: 0.2160 - accuracy: 0.9920\n",
            "Epoch 44/100\n",
            "24/24 [==============================] - 0s 2ms/step - loss: 0.2113 - accuracy: 0.9920\n",
            "Epoch 45/100\n",
            "24/24 [==============================] - 0s 2ms/step - loss: 0.2067 - accuracy: 0.9920\n",
            "Epoch 46/100\n",
            "24/24 [==============================] - 0s 2ms/step - loss: 0.2023 - accuracy: 0.9920\n",
            "Epoch 47/100\n",
            "24/24 [==============================] - 0s 2ms/step - loss: 0.1979 - accuracy: 0.9920\n",
            "Epoch 48/100\n",
            "24/24 [==============================] - 0s 2ms/step - loss: 0.1937 - accuracy: 0.9920\n",
            "Epoch 49/100\n",
            "24/24 [==============================] - 0s 2ms/step - loss: 0.1896 - accuracy: 0.9933\n",
            "Epoch 50/100\n",
            "24/24 [==============================] - 0s 2ms/step - loss: 0.1856 - accuracy: 0.9933\n",
            "Epoch 51/100\n",
            "24/24 [==============================] - 0s 2ms/step - loss: 0.1818 - accuracy: 0.9933\n",
            "Epoch 52/100\n",
            "24/24 [==============================] - 0s 2ms/step - loss: 0.1780 - accuracy: 0.9933\n",
            "Epoch 53/100\n",
            "24/24 [==============================] - 0s 2ms/step - loss: 0.1743 - accuracy: 0.9933\n",
            "Epoch 54/100\n",
            "24/24 [==============================] - 0s 2ms/step - loss: 0.1707 - accuracy: 0.9933\n",
            "Epoch 55/100\n",
            "24/24 [==============================] - 0s 2ms/step - loss: 0.1672 - accuracy: 0.9947\n",
            "Epoch 56/100\n",
            "24/24 [==============================] - 0s 1ms/step - loss: 0.1638 - accuracy: 0.9947\n",
            "Epoch 57/100\n",
            "24/24 [==============================] - 0s 2ms/step - loss: 0.1605 - accuracy: 0.9947\n",
            "Epoch 58/100\n",
            "24/24 [==============================] - 0s 2ms/step - loss: 0.1573 - accuracy: 0.9947\n",
            "Epoch 59/100\n",
            "24/24 [==============================] - 0s 2ms/step - loss: 0.1542 - accuracy: 0.9960\n",
            "Epoch 60/100\n",
            "24/24 [==============================] - 0s 2ms/step - loss: 0.1511 - accuracy: 0.9973\n",
            "Epoch 61/100\n",
            "24/24 [==============================] - 0s 2ms/step - loss: 0.1481 - accuracy: 0.9987\n",
            "Epoch 62/100\n",
            "24/24 [==============================] - 0s 2ms/step - loss: 0.1452 - accuracy: 0.9987\n",
            "Epoch 63/100\n",
            "24/24 [==============================] - 0s 2ms/step - loss: 0.1424 - accuracy: 1.0000\n",
            "Epoch 64/100\n",
            "24/24 [==============================] - 0s 2ms/step - loss: 0.1396 - accuracy: 1.0000\n",
            "Epoch 65/100\n",
            "24/24 [==============================] - 0s 2ms/step - loss: 0.1369 - accuracy: 1.0000\n",
            "Epoch 66/100\n",
            "24/24 [==============================] - 0s 2ms/step - loss: 0.1343 - accuracy: 1.0000\n",
            "Epoch 67/100\n",
            "24/24 [==============================] - 0s 2ms/step - loss: 0.1318 - accuracy: 1.0000\n",
            "Epoch 68/100\n",
            "24/24 [==============================] - 0s 2ms/step - loss: 0.1293 - accuracy: 1.0000\n",
            "Epoch 69/100\n",
            "24/24 [==============================] - 0s 2ms/step - loss: 0.1269 - accuracy: 1.0000\n",
            "Epoch 70/100\n",
            "24/24 [==============================] - 0s 2ms/step - loss: 0.1245 - accuracy: 1.0000\n",
            "Epoch 71/100\n",
            "24/24 [==============================] - 0s 2ms/step - loss: 0.1222 - accuracy: 1.0000\n",
            "Epoch 72/100\n",
            "24/24 [==============================] - 0s 2ms/step - loss: 0.1199 - accuracy: 1.0000\n",
            "Epoch 73/100\n",
            "24/24 [==============================] - 0s 2ms/step - loss: 0.1177 - accuracy: 1.0000\n",
            "Epoch 74/100\n",
            "24/24 [==============================] - 0s 1ms/step - loss: 0.1156 - accuracy: 1.0000\n",
            "Epoch 75/100\n",
            "24/24 [==============================] - 0s 2ms/step - loss: 0.1135 - accuracy: 1.0000\n",
            "Epoch 76/100\n",
            "24/24 [==============================] - 0s 2ms/step - loss: 0.1115 - accuracy: 1.0000\n",
            "Epoch 77/100\n",
            "24/24 [==============================] - 0s 2ms/step - loss: 0.1095 - accuracy: 1.0000\n",
            "Epoch 78/100\n",
            "24/24 [==============================] - 0s 2ms/step - loss: 0.1075 - accuracy: 1.0000\n",
            "Epoch 79/100\n",
            "24/24 [==============================] - 0s 3ms/step - loss: 0.1057 - accuracy: 1.0000\n",
            "Epoch 80/100\n",
            "24/24 [==============================] - 0s 2ms/step - loss: 0.1038 - accuracy: 1.0000\n",
            "Epoch 81/100\n",
            "24/24 [==============================] - 0s 2ms/step - loss: 0.1020 - accuracy: 1.0000\n",
            "Epoch 82/100\n",
            "24/24 [==============================] - 0s 2ms/step - loss: 0.1002 - accuracy: 1.0000\n",
            "Epoch 83/100\n",
            "24/24 [==============================] - 0s 2ms/step - loss: 0.0985 - accuracy: 1.0000\n",
            "Epoch 84/100\n",
            "24/24 [==============================] - 0s 2ms/step - loss: 0.0968 - accuracy: 1.0000\n",
            "Epoch 85/100\n",
            "24/24 [==============================] - 0s 2ms/step - loss: 0.0952 - accuracy: 1.0000\n",
            "Epoch 86/100\n",
            "24/24 [==============================] - 0s 2ms/step - loss: 0.0936 - accuracy: 1.0000\n",
            "Epoch 87/100\n",
            "24/24 [==============================] - 0s 2ms/step - loss: 0.0920 - accuracy: 1.0000\n",
            "Epoch 88/100\n",
            "24/24 [==============================] - 0s 2ms/step - loss: 0.0905 - accuracy: 1.0000\n",
            "Epoch 89/100\n",
            "24/24 [==============================] - 0s 2ms/step - loss: 0.0890 - accuracy: 1.0000\n",
            "Epoch 90/100\n",
            "24/24 [==============================] - 0s 2ms/step - loss: 0.0875 - accuracy: 1.0000\n",
            "Epoch 91/100\n",
            "24/24 [==============================] - 0s 2ms/step - loss: 0.0861 - accuracy: 1.0000\n",
            "Epoch 92/100\n",
            "24/24 [==============================] - 0s 1ms/step - loss: 0.0847 - accuracy: 1.0000\n",
            "Epoch 93/100\n",
            "24/24 [==============================] - 0s 2ms/step - loss: 0.0833 - accuracy: 1.0000\n",
            "Epoch 94/100\n",
            "24/24 [==============================] - 0s 2ms/step - loss: 0.0820 - accuracy: 1.0000\n",
            "Epoch 95/100\n",
            "24/24 [==============================] - 0s 2ms/step - loss: 0.0807 - accuracy: 1.0000\n",
            "Epoch 96/100\n",
            "24/24 [==============================] - 0s 2ms/step - loss: 0.0794 - accuracy: 1.0000\n",
            "Epoch 97/100\n",
            "24/24 [==============================] - 0s 2ms/step - loss: 0.0781 - accuracy: 1.0000\n",
            "Epoch 98/100\n",
            "24/24 [==============================] - 0s 2ms/step - loss: 0.0769 - accuracy: 1.0000\n",
            "Epoch 99/100\n",
            "24/24 [==============================] - 0s 2ms/step - loss: 0.0757 - accuracy: 1.0000\n",
            "Epoch 100/100\n",
            "24/24 [==============================] - 0s 2ms/step - loss: 0.0745 - accuracy: 1.0000\n"
          ]
        }
      ],
      "source": [
        "# Fitting the model with linear dummy data\n",
        "model = neuron.fit(X_train_scaled, y_train, epochs=100)\n"
      ]
    },
    {
      "cell_type": "markdown",
      "metadata": {
        "id": "lDlwCej-8leV"
      },
      "source": [
        " ### Evaluate the Model\n",
        "\n",
        " #### Plotting the Loss Function and Accuracy"
      ]
    },
    {
      "cell_type": "code",
      "execution_count": 21,
      "metadata": {
        "colab": {
          "base_uri": "https://localhost:8080/",
          "height": 283
        },
        "id": "COI7SPEr8leV",
        "outputId": "80e3dafe-1614-4759-ac7f-632238a5419b"
      },
      "outputs": [
        {
          "output_type": "execute_result",
          "data": {
            "text/plain": [
              "<matplotlib.axes._subplots.AxesSubplot at 0x7f2218e93cd0>"
            ]
          },
          "metadata": {},
          "execution_count": 21
        },
        {
          "output_type": "display_data",
          "data": {
            "text/plain": [
              "<Figure size 432x288 with 1 Axes>"
            ],
            "image/png": "[encoded data removed]"
          },
          "metadata": {
            "needs_background": "light"
          }
        }
      ],
      "source": [
        "# Create a dataframe with the history dictionary\n",
        "df = pd.DataFrame(model.history, index=range(1, len(model.history['loss'])+1))\n",
        "\n",
        "# Plot the loss\n",
        "df.plot(y='loss')\n"
      ]
    },
    {
      "cell_type": "code",
      "execution_count": 22,
      "metadata": {
        "colab": {
          "base_uri": "https://localhost:8080/",
          "height": 283
        },
        "id": "O1Esuqpr8leV",
        "outputId": "e9814061-0846-4e54-cc46-e979a6508ef4"
      },
      "outputs": [
        {
          "output_type": "execute_result",
          "data": {
            "text/plain": [
              "<matplotlib.axes._subplots.AxesSubplot at 0x7f221c03ee50>"
            ]
          },
          "metadata": {},
          "execution_count": 22
        },
        {
          "output_type": "display_data",
          "data": {
            "text/plain": [
              "<Figure size 432x288 with 1 Axes>"
            ],
            "image/png": "[encoded data removed]"
          },
          "metadata": {
            "needs_background": "light"
          }
        }
      ],
      "source": [
        "# Plot the accuracy\n",
        "df.plot(y='accuracy')\n"
      ]
    },
    {
      "cell_type": "markdown",
      "metadata": {
        "id": "3rETqyDL8leV"
      },
      "source": [
        " #### Evaluating the Model Using Testing Data"
      ]
    },
    {
      "cell_type": "code",
      "execution_count": 24,
      "metadata": {
        "colab": {
          "base_uri": "https://localhost:8080/"
        },
        "id": "ne7SHTIs8leV",
        "outputId": "62cd100b-09da-4fbd-9617-725ada5d742a"
      },
      "outputs": [
        {
          "output_type": "stream",
          "name": "stdout",
          "text": [
            "8/8 - 0s - loss: 0.0690 - accuracy: 1.0000 - 25ms/epoch - 3ms/step\n",
            "loss: 0.06900893151760101, and accuracy is: 1.0\n"
          ]
        }
      ],
      "source": [
        "# Evaluate the model fit with linear dummy data\n",
        "\n",
        "model_loss, model_accuracy = neuron.evaluate(X_test_scaled, y_test, verbose=2)\n",
        "print(f\"loss: {model_loss}, and accuracy is: {model_accuracy}\")"
      ]
    },
    {
      "cell_type": "markdown",
      "metadata": {
        "id": "mjFD_WzA8leW"
      },
      "source": [
        " ### Making Predictions with New Data"
      ]
    },
    {
      "cell_type": "code",
      "execution_count": 25,
      "metadata": {
        "id": "4DoQzvAM8leW"
      },
      "outputs": [],
      "source": [
        "# Create 10 new samples of dummy data\n",
        "new_X, new_y = make_blobs(n_samples=10, centers=2, n_features=2, random_state=78)\n"
      ]
    },
    {
      "cell_type": "code",
      "execution_count": 29,
      "metadata": {
        "colab": {
          "base_uri": "https://localhost:8080/",
          "height": 381
        },
        "id": "C8J7kPqS8leW",
        "outputId": "62809b9a-5ec6-4c41-ce04-2b876bd6b6df"
      },
      "outputs": [
        {
          "output_type": "stream",
          "name": "stdout",
          "text": [
            "1/1 [==============================] - 0s 27ms/step\n"
          ]
        },
        {
          "output_type": "execute_result",
          "data": {
            "text/plain": [
              "   Predictions  Actuals\n",
              "0            0        0\n",
              "1            1        1\n",
              "2            0        0\n",
              "3            1        1\n",
              "4            0        0\n",
              "5            0        0\n",
              "6            1        1\n",
              "7            1        1\n",
              "8            1        1\n",
              "9            0        0"
            ],
            "text/html": [
              "\n",
              "  <div id=\"df-2b58f71f-fddd-49b8-9ddf-5af4331c52db\">\n",
              "    <div class=\"colab-df-container\">\n",
              "      <div>\n",
              "<style scoped>\n",
              "    .dataframe tbody tr th:only-of-type {\n",
              "        vertical-align: middle;\n",
              "    }\n",
              "\n",
              "    .dataframe tbody tr th {\n",
              "        vertical-align: top;\n",
              "    }\n",
              "\n",
              "    .dataframe thead th {\n",
              "        text-align: right;\n",
              "    }\n",
              "</style>\n",
              "<table border=\"1\" class=\"dataframe\">\n",
              "  <thead>\n",
              "    <tr style=\"text-align: right;\">\n",
              "      <th></th>\n",
              "      <th>Predictions</th>\n",
              "      <th>Actuals</th>\n",
              "    </tr>\n",
              "  </thead>\n",
              "  <tbody>\n",
              "    <tr>\n",
              "      <th>0</th>\n",
              "      <td>0</td>\n",
              "      <td>0</td>\n",
              "    </tr>\n",
              "    <tr>\n",
              "      <th>1</th>\n",
              "      <td>1</td>\n",
              "      <td>1</td>\n",
              "    </tr>\n",
              "    <tr>\n",
              "      <th>2</th>\n",
              "      <td>0</td>\n",
              "      <td>0</td>\n",
              "    </tr>\n",
              "    <tr>\n",
              "      <th>3</th>\n",
              "      <td>1</td>\n",
              "      <td>1</td>\n",
              "    </tr>\n",
              "    <tr>\n",
              "      <th>4</th>\n",
              "      <td>0</td>\n",
              "      <td>0</td>\n",
              "    </tr>\n",
              "    <tr>\n",
              "      <th>5</th>\n",
              "      <td>0</td>\n",
              "      <td>0</td>\n",
              "    </tr>\n",
              "    <tr>\n",
              "      <th>6</th>\n",
              "      <td>1</td>\n",
              "      <td>1</td>\n",
              "    </tr>\n",
              "    <tr>\n",
              "      <th>7</th>\n",
              "      <td>1</td>\n",
              "      <td>1</td>\n",
              "    </tr>\n",
              "    <tr>\n",
              "      <th>8</th>\n",
              "      <td>1</td>\n",
              "      <td>1</td>\n",
              "    </tr>\n",
              "    <tr>\n",
              "      <th>9</th>\n",
              "      <td>0</td>\n",
              "      <td>0</td>\n",
              "    </tr>\n",
              "  </tbody>\n",
              "</table>\n",
              "</div>\n",
              "      <button class=\"colab-df-convert\" onclick=\"convertToInteractive('df-2b58f71f-fddd-49b8-9ddf-5af4331c52db')\"\n",
              "              title=\"Convert this dataframe to an interactive table.\"\n",
              "              style=\"display:none;\">\n",
              "        \n",
              "  <svg xmlns=\"http://www.w3.org/2000/svg\" height=\"24px\"viewBox=\"0 0 24 24\"\n",
              "       width=\"24px\">\n",
              "    <path d=\"M0 0h24v24H0V0z\" fill=\"none\"/>\n",
              "    <path d=\"M18.56 5.44l.94 2.06.94-2.06 2.06-.94-2.06-.94-.94-2.06-.94 2.06-2.06.94zm-11 1L8.5 8.5l.94-2.06 2.06-.94-2.06-.94L8.5 2.5l-.94 2.06-2.06.94zm10 10l.94 2.06.94-2.06 2.06-.94-2.06-.94-.94-2.06-.94 2.06-2.06.94z\"/><path d=\"M17.41 7.96l-1.37-1.37c-.4-.4-.92-.59-1.43-.59-.52 0-1.04.2-1.43.59L10.3 9.45l-7.72 7.72c-.78.78-.78 2.05 0 2.83L4 21.41c.39.39.9.59 1.41.59.51 0 1.02-.2 1.41-.59l7.78-7.78 2.81-2.81c.8-.78.8-2.07 0-2.86zM5.41 20L4 18.59l7.72-7.72 1.47 1.35L5.41 20z\"/>\n",
              "  </svg>\n",
              "      </button>\n",
              "      \n",
              "  <style>\n",
              "    .colab-df-container {\n",
              "      display:flex;\n",
              "      flex-wrap:wrap;\n",
              "      gap: 12px;\n",
              "    }\n",
              "\n",
              "    .colab-df-convert {\n",
              "      background-color: #E8F0FE;\n",
              "      border: none;\n",
              "      border-radius: 50%;\n",
              "      cursor: pointer;\n",
              "      display: none;\n",
              "      fill: #1967D2;\n",
              "      height: 32px;\n",
              "      padding: 0 0 0 0;\n",
              "      width: 32px;\n",
              "    }\n",
              "\n",
              "    .colab-df-convert:hover {\n",
              "      background-color: #E2EBFA;\n",
              "      box-shadow: 0px 1px 2px rgba(60, 64, 67, 0.3), 0px 1px 3px 1px rgba(60, 64, 67, 0.15);\n",
              "      fill: #174EA6;\n",
              "    }\n",
              "\n",
              "    [theme=dark] .colab-df-convert {\n",
              "      background-color: #3B4455;\n",
              "      fill: #D2E3FC;\n",
              "    }\n",
              "\n",
              "    [theme=dark] .colab-df-convert:hover {\n",
              "      background-color: #434B5C;\n",
              "      box-shadow: 0px 1px 3px 1px rgba(0, 0, 0, 0.15);\n",
              "      filter: drop-shadow(0px 1px 2px rgba(0, 0, 0, 0.3));\n",
              "      fill: #FFFFFF;\n",
              "    }\n",
              "  </style>\n",
              "\n",
              "      <script>\n",
              "        const buttonEl =\n",
              "          document.querySelector('#df-2b58f71f-fddd-49b8-9ddf-5af4331c52db button.colab-df-convert');\n",
              "        buttonEl.style.display =\n",
              "          google.colab.kernel.accessAllowed ? 'block' : 'none';\n",
              "\n",
              "        async function convertToInteractive(key) {\n",
              "          const element = document.querySelector('#df-2b58f71f-fddd-49b8-9ddf-5af4331c52db');\n",
              "          const dataTable =\n",
              "            await google.colab.kernel.invokeFunction('convertToInteractive',\n",
              "                                                     [key], {});\n",
              "          if (!dataTable) return;\n",
              "\n",
              "          const docLinkHtml = 'Like what you see? Visit the ' +\n",
              "            '<a target=\"_blank\" href=https://colab.research.google.com/notebooks/data_table.ipynb>data table notebook</a>'\n",
              "            + ' to learn more about interactive tables.';\n",
              "          element.innerHTML = '';\n",
              "          dataTable['output_type'] = 'display_data';\n",
              "          await google.colab.output.renderOutput(dataTable, element);\n",
              "          const docLink = document.createElement('div');\n",
              "          docLink.innerHTML = docLinkHtml;\n",
              "          element.appendChild(docLink);\n",
              "        }\n",
              "      </script>\n",
              "    </div>\n",
              "  </div>\n",
              "  "
            ]
          },
          "metadata": {},
          "execution_count": 29
        }
      ],
      "source": [
        "# Making predictions\n",
        "predictions = neuron.predict(new_X).astype('int32')\n",
        "results = pd.DataFrame({\n",
        "    \"Predictions\":predictions.ravel(),\n",
        "    \"Actuals\":new_y\n",
        "})\n",
        "results"
      ]
    },
    {
      "cell_type": "markdown",
      "metadata": {
        "id": "fzDxbqsd8leW"
      },
      "source": [
        " ## Using a Single Neuron for Non-Linear Data\n",
        "\n",
        " ### Creating Demo Data"
      ]
    },
    {
      "cell_type": "code",
      "execution_count": null,
      "metadata": {
        "id": "1xTOeGLE8leW"
      },
      "outputs": [],
      "source": [
        "# Creating dummy non-linear data\n",
        "\n"
      ]
    },
    {
      "cell_type": "code",
      "execution_count": null,
      "metadata": {
        "id": "i2XpFcXp8leW"
      },
      "outputs": [],
      "source": [
        "# Transforming y_moons to a vertical vector\n",
        "\n"
      ]
    },
    {
      "cell_type": "code",
      "execution_count": null,
      "metadata": {
        "id": "YuKSatT-8leW"
      },
      "outputs": [],
      "source": [
        "# Creating a DataFrame to plot the non-linear dummy data\n",
        "\n"
      ]
    },
    {
      "cell_type": "code",
      "execution_count": null,
      "metadata": {
        "id": "8FCuGEz08leW"
      },
      "outputs": [],
      "source": [
        "# Plotting the non-linear dummy data\n",
        "\n"
      ]
    },
    {
      "cell_type": "markdown",
      "metadata": {
        "id": "hUZP2ScT8leW"
      },
      "source": [
        " ### Data Preprocessing\n",
        "\n",
        " Use `train_test_split` to create training and testing data."
      ]
    },
    {
      "cell_type": "code",
      "execution_count": null,
      "metadata": {
        "id": "LJ012-mh8leW"
      },
      "outputs": [],
      "source": [
        "# Create training and testing sets\n",
        "\n"
      ]
    },
    {
      "cell_type": "markdown",
      "metadata": {
        "id": "kjgQ_HXg8leW"
      },
      "source": [
        " Scale the data"
      ]
    },
    {
      "cell_type": "code",
      "execution_count": null,
      "metadata": {
        "id": "3KjXJdTd8leW"
      },
      "outputs": [],
      "source": [
        "# Create the scaler instance\n",
        "\n"
      ]
    },
    {
      "cell_type": "code",
      "execution_count": null,
      "metadata": {
        "id": "h1UZ5N8e8leX"
      },
      "outputs": [],
      "source": [
        "# Fit the scaler\n",
        "\n"
      ]
    },
    {
      "cell_type": "code",
      "execution_count": null,
      "metadata": {
        "id": "xZs7Z-Px8leX"
      },
      "outputs": [],
      "source": [
        "# Scale the data\n",
        "\n"
      ]
    },
    {
      "cell_type": "markdown",
      "metadata": {
        "id": "PWC6m7KL8leX"
      },
      "source": [
        " ### Fit the Model"
      ]
    },
    {
      "cell_type": "code",
      "execution_count": null,
      "metadata": {
        "id": "FypI7M0A8leX"
      },
      "outputs": [],
      "source": [
        "# Training the model with the non-linear data\n",
        "\n"
      ]
    },
    {
      "cell_type": "markdown",
      "metadata": {
        "id": "r_novROg8leX"
      },
      "source": [
        " ### Evaluate the Model\n",
        "\n",
        " #### Plotting the Loss Function and Accuracy"
      ]
    },
    {
      "cell_type": "code",
      "execution_count": null,
      "metadata": {
        "id": "aEPPWiw08leX"
      },
      "outputs": [],
      "source": [
        "# Create a dataframe with the history dictionary\n",
        "\n",
        "\n",
        "# Plot the loss\n",
        "\n"
      ]
    },
    {
      "cell_type": "code",
      "execution_count": null,
      "metadata": {
        "id": "Q3jgID-q8leX"
      },
      "outputs": [],
      "source": [
        "# Plot the accuracy\n",
        "\n"
      ]
    },
    {
      "cell_type": "markdown",
      "metadata": {
        "id": "HiN--Ia28leX"
      },
      "source": [
        " #### Evaluating the Model Using Testing Data"
      ]
    },
    {
      "cell_type": "code",
      "execution_count": null,
      "metadata": {
        "id": "yAZ_pcX68leX"
      },
      "outputs": [],
      "source": [
        "# Evaluate the model using non-linear data\n",
        "\n"
      ]
    },
    {
      "cell_type": "markdown",
      "metadata": {
        "id": "z3atBYCT8leX"
      },
      "source": [
        " ### Making Predictions"
      ]
    },
    {
      "cell_type": "code",
      "execution_count": null,
      "metadata": {
        "id": "nnxUrjvo8leX"
      },
      "outputs": [],
      "source": [
        "# Create demo data\n",
        "\n"
      ]
    },
    {
      "cell_type": "code",
      "execution_count": null,
      "metadata": {
        "id": "VGODSTtD8leX"
      },
      "outputs": [],
      "source": [
        "# Making predictions\n",
        "\n"
      ]
    }
  ],
  "metadata": {
    "file_extension": ".py",
    "kernelspec": {
      "display_name": "Python 3",
      "language": "python",
      "name": "python3"
    },
    "language_info": {
      "codemirror_mode": {
        "name": "ipython",
        "version": 3
      },
      "file_extension": ".py",
      "mimetype": "text/x-python",
      "name": "python",
      "nbconvert_exporter": "python",
      "pygments_lexer": "ipython3",
      "version": "3.8.15"
    },
    "mimetype": "text/x-python",
    "name": "python",
    "npconvert_exporter": "python",
    "pygments_lexer": "ipython3",
    "version": 3,
    "vscode": {
      "interpreter": {
        "hash": "e5fb5ee4c177eb00892d1bc9a2cd797d813c2b07d737745164b54cb2d28c4d01"
      }
    },
    "colab": {
      "provenance": [],
      "include_colab_link": true
    }
  },
  "nbformat": 4,
  "nbformat_minor": 0
}