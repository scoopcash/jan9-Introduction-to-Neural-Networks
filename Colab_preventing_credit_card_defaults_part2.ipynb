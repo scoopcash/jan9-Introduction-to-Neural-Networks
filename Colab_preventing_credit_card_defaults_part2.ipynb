{
  "cells": [
    {
      "cell_type": "markdown",
      "metadata": {
        "id": "view-in-github",
        "colab_type": "text"
      },
      "source": [
        "<a href=\"https://colab.research.google.com/github/scoopcash/jan9-Introduction-to-Neural-Networks/blob/main/Colab_preventing_credit_card_defaults_part2.ipynb\" target=\"_parent\"><img src=\"https://colab.research.google.com/assets/colab-badge.svg\" alt=\"Open In Colab\"/></a>"
      ]
    },
    {
      "cell_type": "markdown",
      "metadata": {
        "id": "DvbX1XPefC4o"
      },
      "source": [
        "# Preventing Credit Card Defaults - Part 2\n",
        "\n",
        "In this activity, you will continue working on the neural network model to prevent credit card defaults. In this second part, you will compile, fit, and evaluate the model.\n",
        "\n",
        "## Instructions:\n",
        "\n",
        "1. Open the notebook, and run all the cells in the Jupyter notebook that correspond to “Preventing Credit Card Defaults Part 1”.\n",
        "\n",
        "2. Compile the neural network model using the `binary_crossentropy` loss function, the `adam` optimizer, and the additional metric `accuracy`.\n",
        "\n",
        "3. Fit the model with the training data, using 100 epochs.\n",
        "\n",
        "4. Plot the model’s loss function and accuracy over the 100 epochs.\n",
        "\n",
        "5. Evaluate the model using testing data and the `evaluate` method.\n",
        "\n",
        "\n",
        "## References:\n",
        "\n",
        "[Keras Sequential model](https://keras.io/api/models/sequential/)\n",
        "\n",
        "[Keras Dense module](https://keras.io/api/layers/core_layers/dense/)"
      ]
    },
    {
      "cell_type": "code",
      "execution_count": 1,
      "metadata": {
        "id": "gPkzgrNdfC4q"
      },
      "outputs": [],
      "source": [
        "# Imports\n",
        "import pandas as pd\n",
        "import tensorflow as tf\n",
        "from tensorflow.keras.layers import Dense\n",
        "from tensorflow.keras.models import Sequential\n",
        "from sklearn.preprocessing import StandardScaler\n",
        "from sklearn.model_selection import train_test_split\n",
        "\n",
        "%matplotlib inline"
      ]
    },
    {
      "cell_type": "markdown",
      "metadata": {
        "id": "gyY3sgyWfC4q"
      },
      "source": [
        "## Step 1: Run all the cells in the Jupyter notebook that correspond to “Preventing Credit Card Defaults Part 1”."
      ]
    },
    {
      "cell_type": "markdown",
      "metadata": {
        "id": "lSESTPM7fC4q"
      },
      "source": [
        "### Read the CSV file from the Resources folder into a Pandas DataFrame."
      ]
    },
    {
      "cell_type": "code",
      "execution_count": 2,
      "metadata": {
        "colab": {
          "base_uri": "https://localhost:8080/",
          "height": 74
        },
        "id": "QNQ7_OoBfC4q",
        "outputId": "78566431-e1c1-4177-b385-b29835462b13"
      },
      "outputs": [
        {
          "output_type": "display_data",
          "data": {
            "text/plain": [
              "<IPython.core.display.HTML object>"
            ],
            "text/html": [
              "\n",
              "     <input type=\"file\" id=\"files-0777463f-8ff1-4af5-bde0-e2b6f1e04c21\" name=\"files[]\" multiple disabled\n",
              "        style=\"border:none\" />\n",
              "     <output id=\"result-0777463f-8ff1-4af5-bde0-e2b6f1e04c21\">\n",
              "      Upload widget is only available when the cell has been executed in the\n",
              "      current browser session. Please rerun this cell to enable.\n",
              "      </output>\n",
              "      <script>// Copyright 2017 Google LLC\n",
              "//\n",
              "// Licensed under the Apache License, Version 2.0 (the \"License\");\n",
              "// you may not use this file except in compliance with the License.\n",
              "// You may obtain a copy of the License at\n",
              "//\n",
              "//      http://www.apache.org/licenses/LICENSE-2.0\n",
              "//\n",
              "// Unless required by applicable law or agreed to in writing, software\n",
              "// distributed under the License is distributed on an \"AS IS\" BASIS,\n",
              "// WITHOUT WARRANTIES OR CONDITIONS OF ANY KIND, either express or implied.\n",
              "// See the License for the specific language governing permissions and\n",
              "// limitations under the License.\n",
              "\n",
              "/**\n",
              " * @fileoverview Helpers for google.colab Python module.\n",
              " */\n",
              "(function(scope) {\n",
              "function span(text, styleAttributes = {}) {\n",
              "  const element = document.createElement('span');\n",
              "  element.textContent = text;\n",
              "  for (const key of Object.keys(styleAttributes)) {\n",
              "    element.style[key] = styleAttributes[key];\n",
              "  }\n",
              "  return element;\n",
              "}\n",
              "\n",
              "// Max number of bytes which will be uploaded at a time.\n",
              "const MAX_PAYLOAD_SIZE = 100 * 1024;\n",
              "\n",
              "function _uploadFiles(inputId, outputId) {\n",
              "  const steps = uploadFilesStep(inputId, outputId);\n",
              "  const outputElement = document.getElementById(outputId);\n",
              "  // Cache steps on the outputElement to make it available for the next call\n",
              "  // to uploadFilesContinue from Python.\n",
              "  outputElement.steps = steps;\n",
              "\n",
              "  return _uploadFilesContinue(outputId);\n",
              "}\n",
              "\n",
              "// This is roughly an async generator (not supported in the browser yet),\n",
              "// where there are multiple asynchronous steps and the Python side is going\n",
              "// to poll for completion of each step.\n",
              "// This uses a Promise to block the python side on completion of each step,\n",
              "// then passes the result of the previous step as the input to the next step.\n",
              "function _uploadFilesContinue(outputId) {\n",
              "  const outputElement = document.getElementById(outputId);\n",
              "  const steps = outputElement.steps;\n",
              "\n",
              "  const next = steps.next(outputElement.lastPromiseValue);\n",
              "  return Promise.resolve(next.value.promise).then((value) => {\n",
              "    // Cache the last promise value to make it available to the next\n",
              "    // step of the generator.\n",
              "    outputElement.lastPromiseValue = value;\n",
              "    return next.value.response;\n",
              "  });\n",
              "}\n",
              "\n",
              "/**\n",
              " * Generator function which is called between each async step of the upload\n",
              " * process.\n",
              " * @param {string} inputId Element ID of the input file picker element.\n",
              " * @param {string} outputId Element ID of the output display.\n",
              " * @return {!Iterable<!Object>} Iterable of next steps.\n",
              " */\n",
              "function* uploadFilesStep(inputId, outputId) {\n",
              "  const inputElement = document.getElementById(inputId);\n",
              "  inputElement.disabled = false;\n",
              "\n",
              "  const outputElement = document.getElementById(outputId);\n",
              "  outputElement.innerHTML = '';\n",
              "\n",
              "  const pickedPromise = new Promise((resolve) => {\n",
              "    inputElement.addEventListener('change', (e) => {\n",
              "      resolve(e.target.files);\n",
              "    });\n",
              "  });\n",
              "\n",
              "  const cancel = document.createElement('button');\n",
              "  inputElement.parentElement.appendChild(cancel);\n",
              "  cancel.textContent = 'Cancel upload';\n",
              "  const cancelPromise = new Promise((resolve) => {\n",
              "    cancel.onclick = () => {\n",
              "      resolve(null);\n",
              "    };\n",
              "  });\n",
              "\n",
              "  // Wait for the user to pick the files.\n",
              "  const files = yield {\n",
              "    promise: Promise.race([pickedPromise, cancelPromise]),\n",
              "    response: {\n",
              "      action: 'starting',\n",
              "    }\n",
              "  };\n",
              "\n",
              "  cancel.remove();\n",
              "\n",
              "  // Disable the input element since further picks are not allowed.\n",
              "  inputElement.disabled = true;\n",
              "\n",
              "  if (!files) {\n",
              "    return {\n",
              "      response: {\n",
              "        action: 'complete',\n",
              "      }\n",
              "    };\n",
              "  }\n",
              "\n",
              "  for (const file of files) {\n",
              "    const li = document.createElement('li');\n",
              "    li.append(span(file.name, {fontWeight: 'bold'}));\n",
              "    li.append(span(\n",
              "        `(${file.type || 'n/a'}) - ${file.size} bytes, ` +\n",
              "        `last modified: ${\n",
              "            file.lastModifiedDate ? file.lastModifiedDate.toLocaleDateString() :\n",
              "                                    'n/a'} - `));\n",
              "    const percent = span('0% done');\n",
              "    li.appendChild(percent);\n",
              "\n",
              "    outputElement.appendChild(li);\n",
              "\n",
              "    const fileDataPromise = new Promise((resolve) => {\n",
              "      const reader = new FileReader();\n",
              "      reader.onload = (e) => {\n",
              "        resolve(e.target.result);\n",
              "      };\n",
              "      reader.readAsArrayBuffer(file);\n",
              "    });\n",
              "    // Wait for the data to be ready.\n",
              "    let fileData = yield {\n",
              "      promise: fileDataPromise,\n",
              "      response: {\n",
              "        action: 'continue',\n",
              "      }\n",
              "    };\n",
              "\n",
              "    // Use a chunked sending to avoid message size limits. See b/62115660.\n",
              "    let position = 0;\n",
              "    do {\n",
              "      const length = Math.min(fileData.byteLength - position, MAX_PAYLOAD_SIZE);\n",
              "      const chunk = new Uint8Array(fileData, position, length);\n",
              "      position += length;\n",
              "\n",
              "      const base64 = btoa(String.fromCharCode.apply(null, chunk));\n",
              "      yield {\n",
              "        response: {\n",
              "          action: 'append',\n",
              "          file: file.name,\n",
              "          data: base64,\n",
              "        },\n",
              "      };\n",
              "\n",
              "      let percentDone = fileData.byteLength === 0 ?\n",
              "          100 :\n",
              "          Math.round((position / fileData.byteLength) * 100);\n",
              "      percent.textContent = `${percentDone}% done`;\n",
              "\n",
              "    } while (position < fileData.byteLength);\n",
              "  }\n",
              "\n",
              "  // All done.\n",
              "  yield {\n",
              "    response: {\n",
              "      action: 'complete',\n",
              "    }\n",
              "  };\n",
              "}\n",
              "\n",
              "scope.google = scope.google || {};\n",
              "scope.google.colab = scope.google.colab || {};\n",
              "scope.google.colab._files = {\n",
              "  _uploadFiles,\n",
              "  _uploadFilesContinue,\n",
              "};\n",
              "})(self);\n",
              "</script> "
            ]
          },
          "metadata": {}
        },
        {
          "output_type": "stream",
          "name": "stdout",
          "text": [
            "Saving cc_default.csv to cc_default.csv\n"
          ]
        }
      ],
      "source": [
        "# Import cc_default.csv to Google Colab\n",
        "from google.colab import files\n",
        "uploaded = files.upload()"
      ]
    },
    {
      "cell_type": "code",
      "execution_count": 3,
      "metadata": {
        "colab": {
          "base_uri": "https://localhost:8080/",
          "height": 300
        },
        "id": "7L8UkuhEfC4q",
        "outputId": "ca75cd09-1aef-469d-a1f1-a0391e106194"
      },
      "outputs": [
        {
          "output_type": "execute_result",
          "data": {
            "text/plain": [
              "   LIMIT_BAL  EDUCATION  MARITAL_STATUS  AGE  PAY_0  PAY_2  PAY_3  PAY_4  \\\n",
              "0      20000          2               1   24      2      2     -1     -1   \n",
              "1     120000          2               2   26     -1      2      0      0   \n",
              "2      90000          2               2   34      0      0      0      0   \n",
              "3      50000          2               1   37      0      0      0      0   \n",
              "4      50000          2               1   57     -1      0     -1      0   \n",
              "\n",
              "   PAY_5  PAY_6  ...           \"BILL_AMT4\"  BILL_AMT5  BILL_AMT6  PAY_AMT1  \\\n",
              "0     -2     -2  ...                     0          0          0         0   \n",
              "1      0      2  ...                  3272       3455       3261         0   \n",
              "2      0      0  ...                 14331      14948      15549      1518   \n",
              "3      0      0  ...                 28314      28959      29547      2000   \n",
              "4      0      0  ...                 20940      19146      19131      2000   \n",
              "\n",
              "   PAY_AMT2  PAY_AMT3  PAY_AMT4  PAY_AMT5  PAY_AMT6  DEFAULT  \n",
              "0       689         0         0         0         0        1  \n",
              "1      1000      1000      1000         0      2000        1  \n",
              "2      1500      1000      1000      1000      5000        0  \n",
              "3      2019      1200      1100      1069      1000        0  \n",
              "4     36681     10000      9000       689       679        0  \n",
              "\n",
              "[5 rows x 23 columns]"
            ],
            "text/html": [
              "\n",
              "  <div id=\"df-d49abefa-4b9b-4542-a95e-afa75448d6ca\">\n",
              "    <div class=\"colab-df-container\">\n",
              "      <div>\n",
              "<style scoped>\n",
              "    .dataframe tbody tr th:only-of-type {\n",
              "        vertical-align: middle;\n",
              "    }\n",
              "\n",
              "    .dataframe tbody tr th {\n",
              "        vertical-align: top;\n",
              "    }\n",
              "\n",
              "    .dataframe thead th {\n",
              "        text-align: right;\n",
              "    }\n",
              "</style>\n",
              "<table border=\"1\" class=\"dataframe\">\n",
              "  <thead>\n",
              "    <tr style=\"text-align: right;\">\n",
              "      <th></th>\n",
              "      <th>LIMIT_BAL</th>\n",
              "      <th>EDUCATION</th>\n",
              "      <th>MARITAL_STATUS</th>\n",
              "      <th>AGE</th>\n",
              "      <th>PAY_0</th>\n",
              "      <th>PAY_2</th>\n",
              "      <th>PAY_3</th>\n",
              "      <th>PAY_4</th>\n",
              "      <th>PAY_5</th>\n",
              "      <th>PAY_6</th>\n",
              "      <th>...</th>\n",
              "      <th>\"BILL_AMT4\"</th>\n",
              "      <th>BILL_AMT5</th>\n",
              "      <th>BILL_AMT6</th>\n",
              "      <th>PAY_AMT1</th>\n",
              "      <th>PAY_AMT2</th>\n",
              "      <th>PAY_AMT3</th>\n",
              "      <th>PAY_AMT4</th>\n",
              "      <th>PAY_AMT5</th>\n",
              "      <th>PAY_AMT6</th>\n",
              "      <th>DEFAULT</th>\n",
              "    </tr>\n",
              "  </thead>\n",
              "  <tbody>\n",
              "    <tr>\n",
              "      <th>0</th>\n",
              "      <td>20000</td>\n",
              "      <td>2</td>\n",
              "      <td>1</td>\n",
              "      <td>24</td>\n",
              "      <td>2</td>\n",
              "      <td>2</td>\n",
              "      <td>-1</td>\n",
              "      <td>-1</td>\n",
              "      <td>-2</td>\n",
              "      <td>-2</td>\n",
              "      <td>...</td>\n",
              "      <td>0</td>\n",
              "      <td>0</td>\n",
              "      <td>0</td>\n",
              "      <td>0</td>\n",
              "      <td>689</td>\n",
              "      <td>0</td>\n",
              "      <td>0</td>\n",
              "      <td>0</td>\n",
              "      <td>0</td>\n",
              "      <td>1</td>\n",
              "    </tr>\n",
              "    <tr>\n",
              "      <th>1</th>\n",
              "      <td>120000</td>\n",
              "      <td>2</td>\n",
              "      <td>2</td>\n",
              "      <td>26</td>\n",
              "      <td>-1</td>\n",
              "      <td>2</td>\n",
              "      <td>0</td>\n",
              "      <td>0</td>\n",
              "      <td>0</td>\n",
              "      <td>2</td>\n",
              "      <td>...</td>\n",
              "      <td>3272</td>\n",
              "      <td>3455</td>\n",
              "      <td>3261</td>\n",
              "      <td>0</td>\n",
              "      <td>1000</td>\n",
              "      <td>1000</td>\n",
              "      <td>1000</td>\n",
              "      <td>0</td>\n",
              "      <td>2000</td>\n",
              "      <td>1</td>\n",
              "    </tr>\n",
              "    <tr>\n",
              "      <th>2</th>\n",
              "      <td>90000</td>\n",
              "      <td>2</td>\n",
              "      <td>2</td>\n",
              "      <td>34</td>\n",
              "      <td>0</td>\n",
              "      <td>0</td>\n",
              "      <td>0</td>\n",
              "      <td>0</td>\n",
              "      <td>0</td>\n",
              "      <td>0</td>\n",
              "      <td>...</td>\n",
              "      <td>14331</td>\n",
              "      <td>14948</td>\n",
              "      <td>15549</td>\n",
              "      <td>1518</td>\n",
              "      <td>1500</td>\n",
              "      <td>1000</td>\n",
              "      <td>1000</td>\n",
              "      <td>1000</td>\n",
              "      <td>5000</td>\n",
              "      <td>0</td>\n",
              "    </tr>\n",
              "    <tr>\n",
              "      <th>3</th>\n",
              "      <td>50000</td>\n",
              "      <td>2</td>\n",
              "      <td>1</td>\n",
              "      <td>37</td>\n",
              "      <td>0</td>\n",
              "      <td>0</td>\n",
              "      <td>0</td>\n",
              "      <td>0</td>\n",
              "      <td>0</td>\n",
              "      <td>0</td>\n",
              "      <td>...</td>\n",
              "      <td>28314</td>\n",
              "      <td>28959</td>\n",
              "      <td>29547</td>\n",
              "      <td>2000</td>\n",
              "      <td>2019</td>\n",
              "      <td>1200</td>\n",
              "      <td>1100</td>\n",
              "      <td>1069</td>\n",
              "      <td>1000</td>\n",
              "      <td>0</td>\n",
              "    </tr>\n",
              "    <tr>\n",
              "      <th>4</th>\n",
              "      <td>50000</td>\n",
              "      <td>2</td>\n",
              "      <td>1</td>\n",
              "      <td>57</td>\n",
              "      <td>-1</td>\n",
              "      <td>0</td>\n",
              "      <td>-1</td>\n",
              "      <td>0</td>\n",
              "      <td>0</td>\n",
              "      <td>0</td>\n",
              "      <td>...</td>\n",
              "      <td>20940</td>\n",
              "      <td>19146</td>\n",
              "      <td>19131</td>\n",
              "      <td>2000</td>\n",
              "      <td>36681</td>\n",
              "      <td>10000</td>\n",
              "      <td>9000</td>\n",
              "      <td>689</td>\n",
              "      <td>679</td>\n",
              "      <td>0</td>\n",
              "    </tr>\n",
              "  </tbody>\n",
              "</table>\n",
              "<p>5 rows × 23 columns</p>\n",
              "</div>\n",
              "      <button class=\"colab-df-convert\" onclick=\"convertToInteractive('df-d49abefa-4b9b-4542-a95e-afa75448d6ca')\"\n",
              "              title=\"Convert this dataframe to an interactive table.\"\n",
              "              style=\"display:none;\">\n",
              "        \n",
              "  <svg xmlns=\"http://www.w3.org/2000/svg\" height=\"24px\"viewBox=\"0 0 24 24\"\n",
              "       width=\"24px\">\n",
              "    <path d=\"M0 0h24v24H0V0z\" fill=\"none\"/>\n",
              "    <path d=\"M18.56 5.44l.94 2.06.94-2.06 2.06-.94-2.06-.94-.94-2.06-.94 2.06-2.06.94zm-11 1L8.5 8.5l.94-2.06 2.06-.94-2.06-.94L8.5 2.5l-.94 2.06-2.06.94zm10 10l.94 2.06.94-2.06 2.06-.94-2.06-.94-.94-2.06-.94 2.06-2.06.94z\"/><path d=\"M17.41 7.96l-1.37-1.37c-.4-.4-.92-.59-1.43-.59-.52 0-1.04.2-1.43.59L10.3 9.45l-7.72 7.72c-.78.78-.78 2.05 0 2.83L4 21.41c.39.39.9.59 1.41.59.51 0 1.02-.2 1.41-.59l7.78-7.78 2.81-2.81c.8-.78.8-2.07 0-2.86zM5.41 20L4 18.59l7.72-7.72 1.47 1.35L5.41 20z\"/>\n",
              "  </svg>\n",
              "      </button>\n",
              "      \n",
              "  <style>\n",
              "    .colab-df-container {\n",
              "      display:flex;\n",
              "      flex-wrap:wrap;\n",
              "      gap: 12px;\n",
              "    }\n",
              "\n",
              "    .colab-df-convert {\n",
              "      background-color: #E8F0FE;\n",
              "      border: none;\n",
              "      border-radius: 50%;\n",
              "      cursor: pointer;\n",
              "      display: none;\n",
              "      fill: #1967D2;\n",
              "      height: 32px;\n",
              "      padding: 0 0 0 0;\n",
              "      width: 32px;\n",
              "    }\n",
              "\n",
              "    .colab-df-convert:hover {\n",
              "      background-color: #E2EBFA;\n",
              "      box-shadow: 0px 1px 2px rgba(60, 64, 67, 0.3), 0px 1px 3px 1px rgba(60, 64, 67, 0.15);\n",
              "      fill: #174EA6;\n",
              "    }\n",
              "\n",
              "    [theme=dark] .colab-df-convert {\n",
              "      background-color: #3B4455;\n",
              "      fill: #D2E3FC;\n",
              "    }\n",
              "\n",
              "    [theme=dark] .colab-df-convert:hover {\n",
              "      background-color: #434B5C;\n",
              "      box-shadow: 0px 1px 3px 1px rgba(0, 0, 0, 0.15);\n",
              "      filter: drop-shadow(0px 1px 2px rgba(0, 0, 0, 0.3));\n",
              "      fill: #FFFFFF;\n",
              "    }\n",
              "  </style>\n",
              "\n",
              "      <script>\n",
              "        const buttonEl =\n",
              "          document.querySelector('#df-d49abefa-4b9b-4542-a95e-afa75448d6ca button.colab-df-convert');\n",
              "        buttonEl.style.display =\n",
              "          google.colab.kernel.accessAllowed ? 'block' : 'none';\n",
              "\n",
              "        async function convertToInteractive(key) {\n",
              "          const element = document.querySelector('#df-d49abefa-4b9b-4542-a95e-afa75448d6ca');\n",
              "          const dataTable =\n",
              "            await google.colab.kernel.invokeFunction('convertToInteractive',\n",
              "                                                     [key], {});\n",
              "          if (!dataTable) return;\n",
              "\n",
              "          const docLinkHtml = 'Like what you see? Visit the ' +\n",
              "            '<a target=\"_blank\" href=https://colab.research.google.com/notebooks/data_table.ipynb>data table notebook</a>'\n",
              "            + ' to learn more about interactive tables.';\n",
              "          element.innerHTML = '';\n",
              "          dataTable['output_type'] = 'display_data';\n",
              "          await google.colab.output.renderOutput(dataTable, element);\n",
              "          const docLink = document.createElement('div');\n",
              "          docLink.innerHTML = docLinkHtml;\n",
              "          element.appendChild(docLink);\n",
              "        }\n",
              "      </script>\n",
              "    </div>\n",
              "  </div>\n",
              "  "
            ]
          },
          "metadata": {},
          "execution_count": 3
        }
      ],
      "source": [
        "# Read the cc_default.csv file from the Resources folder into a Pandas DataFrame\n",
        "cc_df = pd.read_csv(\"cc_default.csv\")\n",
        "\n",
        "\n",
        "# Review the DataFrame\n",
        "cc_df.head()"
      ]
    },
    {
      "cell_type": "markdown",
      "metadata": {
        "id": "7UtjIEMsfC4r"
      },
      "source": [
        "### Define the features set `X` by including all of the DataFrame columns except the “DEFAULT” column."
      ]
    },
    {
      "cell_type": "code",
      "execution_count": 4,
      "metadata": {
        "colab": {
          "base_uri": "https://localhost:8080/",
          "height": 300
        },
        "id": "ghLsIpV_fC4r",
        "outputId": "24ba8fb2-7e86-4cd4-cfee-74cdb9a4f226"
      },
      "outputs": [
        {
          "output_type": "execute_result",
          "data": {
            "text/plain": [
              "   LIMIT_BAL  EDUCATION  MARITAL_STATUS  AGE  PAY_0  PAY_2  PAY_3  PAY_4  \\\n",
              "0      20000          2               1   24      2      2     -1     -1   \n",
              "1     120000          2               2   26     -1      2      0      0   \n",
              "2      90000          2               2   34      0      0      0      0   \n",
              "3      50000          2               1   37      0      0      0      0   \n",
              "4      50000          2               1   57     -1      0     -1      0   \n",
              "\n",
              "   PAY_5  PAY_6  ...  BILL_AMT3           \"BILL_AMT4\"  BILL_AMT5  BILL_AMT6  \\\n",
              "0     -2     -2  ...        689                     0          0          0   \n",
              "1      0      2  ...       2682                  3272       3455       3261   \n",
              "2      0      0  ...      13559                 14331      14948      15549   \n",
              "3      0      0  ...      49291                 28314      28959      29547   \n",
              "4      0      0  ...      35835                 20940      19146      19131   \n",
              "\n",
              "   PAY_AMT1  PAY_AMT2  PAY_AMT3  PAY_AMT4  PAY_AMT5  PAY_AMT6  \n",
              "0         0       689         0         0         0         0  \n",
              "1         0      1000      1000      1000         0      2000  \n",
              "2      1518      1500      1000      1000      1000      5000  \n",
              "3      2000      2019      1200      1100      1069      1000  \n",
              "4      2000     36681     10000      9000       689       679  \n",
              "\n",
              "[5 rows x 22 columns]"
            ],
            "text/html": [
              "\n",
              "  <div id=\"df-27574229-8acd-4938-be81-0c35d39e7c95\">\n",
              "    <div class=\"colab-df-container\">\n",
              "      <div>\n",
              "<style scoped>\n",
              "    .dataframe tbody tr th:only-of-type {\n",
              "        vertical-align: middle;\n",
              "    }\n",
              "\n",
              "    .dataframe tbody tr th {\n",
              "        vertical-align: top;\n",
              "    }\n",
              "\n",
              "    .dataframe thead th {\n",
              "        text-align: right;\n",
              "    }\n",
              "</style>\n",
              "<table border=\"1\" class=\"dataframe\">\n",
              "  <thead>\n",
              "    <tr style=\"text-align: right;\">\n",
              "      <th></th>\n",
              "      <th>LIMIT_BAL</th>\n",
              "      <th>EDUCATION</th>\n",
              "      <th>MARITAL_STATUS</th>\n",
              "      <th>AGE</th>\n",
              "      <th>PAY_0</th>\n",
              "      <th>PAY_2</th>\n",
              "      <th>PAY_3</th>\n",
              "      <th>PAY_4</th>\n",
              "      <th>PAY_5</th>\n",
              "      <th>PAY_6</th>\n",
              "      <th>...</th>\n",
              "      <th>BILL_AMT3</th>\n",
              "      <th>\"BILL_AMT4\"</th>\n",
              "      <th>BILL_AMT5</th>\n",
              "      <th>BILL_AMT6</th>\n",
              "      <th>PAY_AMT1</th>\n",
              "      <th>PAY_AMT2</th>\n",
              "      <th>PAY_AMT3</th>\n",
              "      <th>PAY_AMT4</th>\n",
              "      <th>PAY_AMT5</th>\n",
              "      <th>PAY_AMT6</th>\n",
              "    </tr>\n",
              "  </thead>\n",
              "  <tbody>\n",
              "    <tr>\n",
              "      <th>0</th>\n",
              "      <td>20000</td>\n",
              "      <td>2</td>\n",
              "      <td>1</td>\n",
              "      <td>24</td>\n",
              "      <td>2</td>\n",
              "      <td>2</td>\n",
              "      <td>-1</td>\n",
              "      <td>-1</td>\n",
              "      <td>-2</td>\n",
              "      <td>-2</td>\n",
              "      <td>...</td>\n",
              "      <td>689</td>\n",
              "      <td>0</td>\n",
              "      <td>0</td>\n",
              "      <td>0</td>\n",
              "      <td>0</td>\n",
              "      <td>689</td>\n",
              "      <td>0</td>\n",
              "      <td>0</td>\n",
              "      <td>0</td>\n",
              "      <td>0</td>\n",
              "    </tr>\n",
              "    <tr>\n",
              "      <th>1</th>\n",
              "      <td>120000</td>\n",
              "      <td>2</td>\n",
              "      <td>2</td>\n",
              "      <td>26</td>\n",
              "      <td>-1</td>\n",
              "      <td>2</td>\n",
              "      <td>0</td>\n",
              "      <td>0</td>\n",
              "      <td>0</td>\n",
              "      <td>2</td>\n",
              "      <td>...</td>\n",
              "      <td>2682</td>\n",
              "      <td>3272</td>\n",
              "      <td>3455</td>\n",
              "      <td>3261</td>\n",
              "      <td>0</td>\n",
              "      <td>1000</td>\n",
              "      <td>1000</td>\n",
              "      <td>1000</td>\n",
              "      <td>0</td>\n",
              "      <td>2000</td>\n",
              "    </tr>\n",
              "    <tr>\n",
              "      <th>2</th>\n",
              "      <td>90000</td>\n",
              "      <td>2</td>\n",
              "      <td>2</td>\n",
              "      <td>34</td>\n",
              "      <td>0</td>\n",
              "      <td>0</td>\n",
              "      <td>0</td>\n",
              "      <td>0</td>\n",
              "      <td>0</td>\n",
              "      <td>0</td>\n",
              "      <td>...</td>\n",
              "      <td>13559</td>\n",
              "      <td>14331</td>\n",
              "      <td>14948</td>\n",
              "      <td>15549</td>\n",
              "      <td>1518</td>\n",
              "      <td>1500</td>\n",
              "      <td>1000</td>\n",
              "      <td>1000</td>\n",
              "      <td>1000</td>\n",
              "      <td>5000</td>\n",
              "    </tr>\n",
              "    <tr>\n",
              "      <th>3</th>\n",
              "      <td>50000</td>\n",
              "      <td>2</td>\n",
              "      <td>1</td>\n",
              "      <td>37</td>\n",
              "      <td>0</td>\n",
              "      <td>0</td>\n",
              "      <td>0</td>\n",
              "      <td>0</td>\n",
              "      <td>0</td>\n",
              "      <td>0</td>\n",
              "      <td>...</td>\n",
              "      <td>49291</td>\n",
              "      <td>28314</td>\n",
              "      <td>28959</td>\n",
              "      <td>29547</td>\n",
              "      <td>2000</td>\n",
              "      <td>2019</td>\n",
              "      <td>1200</td>\n",
              "      <td>1100</td>\n",
              "      <td>1069</td>\n",
              "      <td>1000</td>\n",
              "    </tr>\n",
              "    <tr>\n",
              "      <th>4</th>\n",
              "      <td>50000</td>\n",
              "      <td>2</td>\n",
              "      <td>1</td>\n",
              "      <td>57</td>\n",
              "      <td>-1</td>\n",
              "      <td>0</td>\n",
              "      <td>-1</td>\n",
              "      <td>0</td>\n",
              "      <td>0</td>\n",
              "      <td>0</td>\n",
              "      <td>...</td>\n",
              "      <td>35835</td>\n",
              "      <td>20940</td>\n",
              "      <td>19146</td>\n",
              "      <td>19131</td>\n",
              "      <td>2000</td>\n",
              "      <td>36681</td>\n",
              "      <td>10000</td>\n",
              "      <td>9000</td>\n",
              "      <td>689</td>\n",
              "      <td>679</td>\n",
              "    </tr>\n",
              "  </tbody>\n",
              "</table>\n",
              "<p>5 rows × 22 columns</p>\n",
              "</div>\n",
              "      <button class=\"colab-df-convert\" onclick=\"convertToInteractive('df-27574229-8acd-4938-be81-0c35d39e7c95')\"\n",
              "              title=\"Convert this dataframe to an interactive table.\"\n",
              "              style=\"display:none;\">\n",
              "        \n",
              "  <svg xmlns=\"http://www.w3.org/2000/svg\" height=\"24px\"viewBox=\"0 0 24 24\"\n",
              "       width=\"24px\">\n",
              "    <path d=\"M0 0h24v24H0V0z\" fill=\"none\"/>\n",
              "    <path d=\"M18.56 5.44l.94 2.06.94-2.06 2.06-.94-2.06-.94-.94-2.06-.94 2.06-2.06.94zm-11 1L8.5 8.5l.94-2.06 2.06-.94-2.06-.94L8.5 2.5l-.94 2.06-2.06.94zm10 10l.94 2.06.94-2.06 2.06-.94-2.06-.94-.94-2.06-.94 2.06-2.06.94z\"/><path d=\"M17.41 7.96l-1.37-1.37c-.4-.4-.92-.59-1.43-.59-.52 0-1.04.2-1.43.59L10.3 9.45l-7.72 7.72c-.78.78-.78 2.05 0 2.83L4 21.41c.39.39.9.59 1.41.59.51 0 1.02-.2 1.41-.59l7.78-7.78 2.81-2.81c.8-.78.8-2.07 0-2.86zM5.41 20L4 18.59l7.72-7.72 1.47 1.35L5.41 20z\"/>\n",
              "  </svg>\n",
              "      </button>\n",
              "      \n",
              "  <style>\n",
              "    .colab-df-container {\n",
              "      display:flex;\n",
              "      flex-wrap:wrap;\n",
              "      gap: 12px;\n",
              "    }\n",
              "\n",
              "    .colab-df-convert {\n",
              "      background-color: #E8F0FE;\n",
              "      border: none;\n",
              "      border-radius: 50%;\n",
              "      cursor: pointer;\n",
              "      display: none;\n",
              "      fill: #1967D2;\n",
              "      height: 32px;\n",
              "      padding: 0 0 0 0;\n",
              "      width: 32px;\n",
              "    }\n",
              "\n",
              "    .colab-df-convert:hover {\n",
              "      background-color: #E2EBFA;\n",
              "      box-shadow: 0px 1px 2px rgba(60, 64, 67, 0.3), 0px 1px 3px 1px rgba(60, 64, 67, 0.15);\n",
              "      fill: #174EA6;\n",
              "    }\n",
              "\n",
              "    [theme=dark] .colab-df-convert {\n",
              "      background-color: #3B4455;\n",
              "      fill: #D2E3FC;\n",
              "    }\n",
              "\n",
              "    [theme=dark] .colab-df-convert:hover {\n",
              "      background-color: #434B5C;\n",
              "      box-shadow: 0px 1px 3px 1px rgba(0, 0, 0, 0.15);\n",
              "      filter: drop-shadow(0px 1px 2px rgba(0, 0, 0, 0.3));\n",
              "      fill: #FFFFFF;\n",
              "    }\n",
              "  </style>\n",
              "\n",
              "      <script>\n",
              "        const buttonEl =\n",
              "          document.querySelector('#df-27574229-8acd-4938-be81-0c35d39e7c95 button.colab-df-convert');\n",
              "        buttonEl.style.display =\n",
              "          google.colab.kernel.accessAllowed ? 'block' : 'none';\n",
              "\n",
              "        async function convertToInteractive(key) {\n",
              "          const element = document.querySelector('#df-27574229-8acd-4938-be81-0c35d39e7c95');\n",
              "          const dataTable =\n",
              "            await google.colab.kernel.invokeFunction('convertToInteractive',\n",
              "                                                     [key], {});\n",
              "          if (!dataTable) return;\n",
              "\n",
              "          const docLinkHtml = 'Like what you see? Visit the ' +\n",
              "            '<a target=\"_blank\" href=https://colab.research.google.com/notebooks/data_table.ipynb>data table notebook</a>'\n",
              "            + ' to learn more about interactive tables.';\n",
              "          element.innerHTML = '';\n",
              "          dataTable['output_type'] = 'display_data';\n",
              "          await google.colab.output.renderOutput(dataTable, element);\n",
              "          const docLink = document.createElement('div');\n",
              "          docLink.innerHTML = docLinkHtml;\n",
              "          element.appendChild(docLink);\n",
              "        }\n",
              "      </script>\n",
              "    </div>\n",
              "  </div>\n",
              "  "
            ]
          },
          "metadata": {},
          "execution_count": 4
        }
      ],
      "source": [
        "# Define features set X by selecting all columns but DEFAULT\n",
        "X = cc_df.drop(columns=[\"DEFAULT\"]).copy()\n",
        "\n",
        "# Display the features DataFrame\n",
        "X.head()"
      ]
    },
    {
      "cell_type": "markdown",
      "metadata": {
        "id": "GrfeeGtsfC4r"
      },
      "source": [
        "### Create the target `y` by assigning the values of the DataFrame “DEFAULT” column."
      ]
    },
    {
      "cell_type": "code",
      "execution_count": 5,
      "metadata": {
        "colab": {
          "base_uri": "https://localhost:8080/"
        },
        "id": "Imp14iglfC4r",
        "outputId": "1d9a61d5-a186-4f0c-ebf4-a68171553bf2"
      },
      "outputs": [
        {
          "output_type": "execute_result",
          "data": {
            "text/plain": [
              "0    1\n",
              "1    1\n",
              "2    0\n",
              "3    0\n",
              "4    0\n",
              "Name: DEFAULT, dtype: int64"
            ]
          },
          "metadata": {},
          "execution_count": 5
        }
      ],
      "source": [
        "# Define target set by selecting the DEFAULT column\n",
        "y = cc_df[\"DEFAULT\"]\n",
        "\n",
        "# Display a sample y\n",
        "y[:5]"
      ]
    },
    {
      "cell_type": "markdown",
      "metadata": {
        "id": "uetbKK-dfC4r"
      },
      "source": [
        "### Create the training and testing sets using the `train_test_split` function from scikit-learn."
      ]
    },
    {
      "cell_type": "code",
      "execution_count": 6,
      "metadata": {
        "id": "PVHnPWHPfC4s"
      },
      "outputs": [],
      "source": [
        "# Create training and testing datasets using train_test_split\n",
        "# Assign the function a random_state equal to 1\n",
        "X_train, X_test, y_train, y_test = train_test_split(X, y, random_state=1)"
      ]
    },
    {
      "cell_type": "markdown",
      "metadata": {
        "id": "gUXwX8o8fC4s"
      },
      "source": [
        "### Scale the features data using the `StandardScaler` from sklearn."
      ]
    },
    {
      "cell_type": "code",
      "execution_count": 7,
      "metadata": {
        "id": "s90-1_mUfC4s"
      },
      "outputs": [],
      "source": [
        "# Create the StandardScaler instance\n",
        "X_scaler = StandardScaler()"
      ]
    },
    {
      "cell_type": "code",
      "execution_count": 8,
      "metadata": {
        "colab": {
          "base_uri": "https://localhost:8080/"
        },
        "id": "z4Y9VfxJfC4s",
        "outputId": "992d7a24-6ad9-45d0-9860-cca78b80c61b"
      },
      "outputs": [
        {
          "output_type": "execute_result",
          "data": {
            "text/plain": [
              "StandardScaler()"
            ]
          },
          "metadata": {},
          "execution_count": 8
        }
      ],
      "source": [
        "# Fit the scaler to the features training dataset\n",
        "X_scaler.fit(X_train)"
      ]
    },
    {
      "cell_type": "code",
      "execution_count": 9,
      "metadata": {
        "id": "70yso8mzfC4s"
      },
      "outputs": [],
      "source": [
        "# Scale both the training and testing data from the features dataset\n",
        "X_train_scaled = X_scaler.transform(X_train)\n",
        "X_test_scaled = X_scaler.transform(X_test)"
      ]
    },
    {
      "cell_type": "markdown",
      "metadata": {
        "id": "I6N-8gZafC4s"
      },
      "source": [
        "### Create a neural network model with an input layer that consists of 22 inputs, one hidden layer, and an output layer. Use the `units` parameter to define 12 neurons for the hidden layer and a single output for the output layer. Use the ReLU activation function for the hidden layer and the sigmoid activation function for the output layer."
      ]
    },
    {
      "cell_type": "code",
      "execution_count": 10,
      "metadata": {
        "id": "v3GDDSuJfC4s"
      },
      "outputs": [],
      "source": [
        "# Define the the number of inputs to the model\n",
        "number_inputs = 22\n",
        "\n",
        "# Define the number of hidden nodes for the model\n",
        "number_hidden_nodes = 12\n",
        "\n",
        "# Create the Sequential model instance\n",
        "neuron = Sequential()\n",
        "\n",
        "# Add a Dense layer specifying the number of inputs, the number of hidden nodes, and the activation function\n",
        "neuron.add(Dense(units=number_hidden_nodes, input_dim=number_inputs, activation=\"relu\"))\n",
        "\n",
        "# Add the output layer to the model specifying the number of output neurons and activation function\n",
        "neuron.add(Dense(1, activation=\"sigmoid\"))"
      ]
    },
    {
      "cell_type": "markdown",
      "metadata": {
        "id": "EoxMgYDnfC4s"
      },
      "source": [
        "### Display the model structure using the `summary` function."
      ]
    },
    {
      "cell_type": "code",
      "execution_count": 11,
      "metadata": {
        "colab": {
          "base_uri": "https://localhost:8080/"
        },
        "id": "h0nJe1QUfC4s",
        "outputId": "956aa5c5-edea-4696-a297-7ee8d6c19ed8"
      },
      "outputs": [
        {
          "output_type": "stream",
          "name": "stdout",
          "text": [
            "Model: \"sequential\"\n",
            "_________________________________________________________________\n",
            " Layer (type)                Output Shape              Param #   \n",
            "=================================================================\n",
            " dense (Dense)               (None, 12)                276       \n",
            "                                                                 \n",
            " dense_1 (Dense)             (None, 1)                 13        \n",
            "                                                                 \n",
            "=================================================================\n",
            "Total params: 289\n",
            "Trainable params: 289\n",
            "Non-trainable params: 0\n",
            "_________________________________________________________________\n"
          ]
        }
      ],
      "source": [
        "# Display the Sequential model summary\n",
        "neuron.summary()"
      ]
    },
    {
      "cell_type": "markdown",
      "metadata": {
        "id": "cB5bHjuJfC4s"
      },
      "source": [
        "## Step 2:  Compile the neural network model using the `binary_crossentropy` loss function, the `adam` optimizer, and the additional metric `accuracy`."
      ]
    },
    {
      "cell_type": "code",
      "execution_count": 14,
      "metadata": {
        "id": "VAeCz29hfC4t"
      },
      "outputs": [],
      "source": [
        "# Compile the Sequential model\n",
        "neuron.compile(loss='binary_crossentropy', optimizer='adam', metrics=['accuracy'])\n"
      ]
    },
    {
      "cell_type": "markdown",
      "metadata": {
        "id": "m4xyh_FyfC4t"
      },
      "source": [
        "## Step 3: Fit the model with 100 epochs using the training data."
      ]
    },
    {
      "cell_type": "code",
      "execution_count": 15,
      "metadata": {
        "colab": {
          "base_uri": "https://localhost:8080/"
        },
        "id": "36UndD3nfC4t",
        "outputId": "ee072bfd-e214-446b-9ee7-ca033b5a6845"
      },
      "outputs": [
        {
          "output_type": "stream",
          "name": "stdout",
          "text": [
            "Epoch 1/100\n",
            "704/704 [==============================] - 2s 2ms/step - loss: 0.5358 - accuracy: 0.7639\n",
            "Epoch 2/100\n",
            "704/704 [==============================] - 1s 2ms/step - loss: 0.4639 - accuracy: 0.8124\n",
            "Epoch 3/100\n",
            "704/704 [==============================] - 1s 2ms/step - loss: 0.4540 - accuracy: 0.8167\n",
            "Epoch 4/100\n",
            "704/704 [==============================] - 1s 2ms/step - loss: 0.4495 - accuracy: 0.8171\n",
            "Epoch 5/100\n",
            "704/704 [==============================] - 1s 2ms/step - loss: 0.4466 - accuracy: 0.8181\n",
            "Epoch 6/100\n",
            "704/704 [==============================] - 1s 2ms/step - loss: 0.4446 - accuracy: 0.8197\n",
            "Epoch 7/100\n",
            "704/704 [==============================] - 1s 2ms/step - loss: 0.4434 - accuracy: 0.8203\n",
            "Epoch 8/100\n",
            "704/704 [==============================] - 1s 2ms/step - loss: 0.4421 - accuracy: 0.8204\n",
            "Epoch 9/100\n",
            "704/704 [==============================] - 1s 2ms/step - loss: 0.4409 - accuracy: 0.8206\n",
            "Epoch 10/100\n",
            "704/704 [==============================] - 1s 2ms/step - loss: 0.4405 - accuracy: 0.8217\n",
            "Epoch 11/100\n",
            "704/704 [==============================] - 1s 2ms/step - loss: 0.4396 - accuracy: 0.8207\n",
            "Epoch 12/100\n",
            "704/704 [==============================] - 1s 2ms/step - loss: 0.4392 - accuracy: 0.8200\n",
            "Epoch 13/100\n",
            "704/704 [==============================] - 1s 2ms/step - loss: 0.4391 - accuracy: 0.8210\n",
            "Epoch 14/100\n",
            "704/704 [==============================] - 1s 2ms/step - loss: 0.4385 - accuracy: 0.8201\n",
            "Epoch 15/100\n",
            "704/704 [==============================] - 1s 2ms/step - loss: 0.4377 - accuracy: 0.8197\n",
            "Epoch 16/100\n",
            "704/704 [==============================] - 1s 2ms/step - loss: 0.4372 - accuracy: 0.8202\n",
            "Epoch 17/100\n",
            "704/704 [==============================] - 1s 2ms/step - loss: 0.4371 - accuracy: 0.8194\n",
            "Epoch 18/100\n",
            "704/704 [==============================] - 1s 2ms/step - loss: 0.4364 - accuracy: 0.8204\n",
            "Epoch 19/100\n",
            "704/704 [==============================] - 2s 3ms/step - loss: 0.4365 - accuracy: 0.8202\n",
            "Epoch 20/100\n",
            "704/704 [==============================] - 1s 2ms/step - loss: 0.4360 - accuracy: 0.8205\n",
            "Epoch 21/100\n",
            "704/704 [==============================] - 2s 3ms/step - loss: 0.4360 - accuracy: 0.8190\n",
            "Epoch 22/100\n",
            "704/704 [==============================] - 2s 3ms/step - loss: 0.4356 - accuracy: 0.8201\n",
            "Epoch 23/100\n",
            "704/704 [==============================] - 2s 3ms/step - loss: 0.4357 - accuracy: 0.8193\n",
            "Epoch 24/100\n",
            "704/704 [==============================] - 2s 3ms/step - loss: 0.4352 - accuracy: 0.8200\n",
            "Epoch 25/100\n",
            "704/704 [==============================] - 2s 3ms/step - loss: 0.4351 - accuracy: 0.8210\n",
            "Epoch 26/100\n",
            "704/704 [==============================] - 2s 3ms/step - loss: 0.4347 - accuracy: 0.8198\n",
            "Epoch 27/100\n",
            "704/704 [==============================] - 3s 4ms/step - loss: 0.4347 - accuracy: 0.8204\n",
            "Epoch 28/100\n",
            "704/704 [==============================] - 2s 2ms/step - loss: 0.4346 - accuracy: 0.8196\n",
            "Epoch 29/100\n",
            "704/704 [==============================] - 1s 2ms/step - loss: 0.4342 - accuracy: 0.8195\n",
            "Epoch 30/100\n",
            "704/704 [==============================] - 1s 2ms/step - loss: 0.4343 - accuracy: 0.8214\n",
            "Epoch 31/100\n",
            "704/704 [==============================] - 1s 2ms/step - loss: 0.4344 - accuracy: 0.8198\n",
            "Epoch 32/100\n",
            "704/704 [==============================] - 1s 2ms/step - loss: 0.4343 - accuracy: 0.8201\n",
            "Epoch 33/100\n",
            "704/704 [==============================] - 1s 2ms/step - loss: 0.4339 - accuracy: 0.8204\n",
            "Epoch 34/100\n",
            "704/704 [==============================] - 1s 2ms/step - loss: 0.4339 - accuracy: 0.8203\n",
            "Epoch 35/100\n",
            "704/704 [==============================] - 1s 2ms/step - loss: 0.4342 - accuracy: 0.8205\n",
            "Epoch 36/100\n",
            "704/704 [==============================] - 1s 2ms/step - loss: 0.4336 - accuracy: 0.8204\n",
            "Epoch 37/100\n",
            "704/704 [==============================] - 1s 2ms/step - loss: 0.4333 - accuracy: 0.8204\n",
            "Epoch 38/100\n",
            "704/704 [==============================] - 1s 2ms/step - loss: 0.4333 - accuracy: 0.8208\n",
            "Epoch 39/100\n",
            "704/704 [==============================] - 1s 2ms/step - loss: 0.4336 - accuracy: 0.8204\n",
            "Epoch 40/100\n",
            "704/704 [==============================] - 1s 2ms/step - loss: 0.4334 - accuracy: 0.8203\n",
            "Epoch 41/100\n",
            "704/704 [==============================] - 1s 2ms/step - loss: 0.4336 - accuracy: 0.8205\n",
            "Epoch 42/100\n",
            "704/704 [==============================] - 1s 2ms/step - loss: 0.4327 - accuracy: 0.8200\n",
            "Epoch 43/100\n",
            "704/704 [==============================] - 1s 2ms/step - loss: 0.4329 - accuracy: 0.8196\n",
            "Epoch 44/100\n",
            "704/704 [==============================] - 1s 2ms/step - loss: 0.4328 - accuracy: 0.8213\n",
            "Epoch 45/100\n",
            "704/704 [==============================] - 1s 2ms/step - loss: 0.4327 - accuracy: 0.8204\n",
            "Epoch 46/100\n",
            "704/704 [==============================] - 1s 2ms/step - loss: 0.4330 - accuracy: 0.8198\n",
            "Epoch 47/100\n",
            "704/704 [==============================] - 1s 2ms/step - loss: 0.4328 - accuracy: 0.8201\n",
            "Epoch 48/100\n",
            "704/704 [==============================] - 1s 2ms/step - loss: 0.4328 - accuracy: 0.8207\n",
            "Epoch 49/100\n",
            "704/704 [==============================] - 1s 2ms/step - loss: 0.4323 - accuracy: 0.8200\n",
            "Epoch 50/100\n",
            "704/704 [==============================] - 1s 2ms/step - loss: 0.4325 - accuracy: 0.8208\n",
            "Epoch 51/100\n",
            "704/704 [==============================] - 1s 2ms/step - loss: 0.4326 - accuracy: 0.8211\n",
            "Epoch 52/100\n",
            "704/704 [==============================] - 1s 2ms/step - loss: 0.4325 - accuracy: 0.8213\n",
            "Epoch 53/100\n",
            "704/704 [==============================] - 1s 2ms/step - loss: 0.4321 - accuracy: 0.8205\n",
            "Epoch 54/100\n",
            "704/704 [==============================] - 1s 2ms/step - loss: 0.4322 - accuracy: 0.8219\n",
            "Epoch 55/100\n",
            "704/704 [==============================] - 1s 2ms/step - loss: 0.4320 - accuracy: 0.8204\n",
            "Epoch 56/100\n",
            "704/704 [==============================] - 2s 2ms/step - loss: 0.4321 - accuracy: 0.8212\n",
            "Epoch 57/100\n",
            "704/704 [==============================] - 2s 3ms/step - loss: 0.4321 - accuracy: 0.8196\n",
            "Epoch 58/100\n",
            "704/704 [==============================] - 1s 2ms/step - loss: 0.4325 - accuracy: 0.8214\n",
            "Epoch 59/100\n",
            "704/704 [==============================] - 1s 2ms/step - loss: 0.4316 - accuracy: 0.8210\n",
            "Epoch 60/100\n",
            "704/704 [==============================] - 1s 2ms/step - loss: 0.4320 - accuracy: 0.8210\n",
            "Epoch 61/100\n",
            "704/704 [==============================] - 1s 2ms/step - loss: 0.4322 - accuracy: 0.8207\n",
            "Epoch 62/100\n",
            "704/704 [==============================] - 1s 2ms/step - loss: 0.4319 - accuracy: 0.8195\n",
            "Epoch 63/100\n",
            "704/704 [==============================] - 1s 2ms/step - loss: 0.4320 - accuracy: 0.8203\n",
            "Epoch 64/100\n",
            "704/704 [==============================] - 1s 2ms/step - loss: 0.4319 - accuracy: 0.8196\n",
            "Epoch 65/100\n",
            "704/704 [==============================] - 1s 2ms/step - loss: 0.4319 - accuracy: 0.8202\n",
            "Epoch 66/100\n",
            "704/704 [==============================] - 1s 2ms/step - loss: 0.4317 - accuracy: 0.8195\n",
            "Epoch 67/100\n",
            "704/704 [==============================] - 1s 2ms/step - loss: 0.4318 - accuracy: 0.8207\n",
            "Epoch 68/100\n",
            "704/704 [==============================] - 1s 2ms/step - loss: 0.4317 - accuracy: 0.8202\n",
            "Epoch 69/100\n",
            "704/704 [==============================] - 1s 2ms/step - loss: 0.4313 - accuracy: 0.8198\n",
            "Epoch 70/100\n",
            "704/704 [==============================] - 1s 2ms/step - loss: 0.4315 - accuracy: 0.8196\n",
            "Epoch 71/100\n",
            "704/704 [==============================] - 1s 2ms/step - loss: 0.4313 - accuracy: 0.8203\n",
            "Epoch 72/100\n",
            "704/704 [==============================] - 1s 2ms/step - loss: 0.4310 - accuracy: 0.8195\n",
            "Epoch 73/100\n",
            "704/704 [==============================] - 1s 2ms/step - loss: 0.4315 - accuracy: 0.8194\n",
            "Epoch 74/100\n",
            "704/704 [==============================] - 1s 2ms/step - loss: 0.4313 - accuracy: 0.8202\n",
            "Epoch 75/100\n",
            "704/704 [==============================] - 1s 2ms/step - loss: 0.4316 - accuracy: 0.8200\n",
            "Epoch 76/100\n",
            "704/704 [==============================] - 1s 2ms/step - loss: 0.4311 - accuracy: 0.8197\n",
            "Epoch 77/100\n",
            "704/704 [==============================] - 1s 2ms/step - loss: 0.4310 - accuracy: 0.8200\n",
            "Epoch 78/100\n",
            "704/704 [==============================] - 1s 2ms/step - loss: 0.4311 - accuracy: 0.8198\n",
            "Epoch 79/100\n",
            "704/704 [==============================] - 1s 2ms/step - loss: 0.4312 - accuracy: 0.8201\n",
            "Epoch 80/100\n",
            "704/704 [==============================] - 1s 2ms/step - loss: 0.4309 - accuracy: 0.8203\n",
            "Epoch 81/100\n",
            "704/704 [==============================] - 1s 2ms/step - loss: 0.4306 - accuracy: 0.8212\n",
            "Epoch 82/100\n",
            "704/704 [==============================] - 1s 2ms/step - loss: 0.4308 - accuracy: 0.8204\n",
            "Epoch 83/100\n",
            "704/704 [==============================] - 1s 2ms/step - loss: 0.4305 - accuracy: 0.8203\n",
            "Epoch 84/100\n",
            "704/704 [==============================] - 1s 2ms/step - loss: 0.4311 - accuracy: 0.8200\n",
            "Epoch 85/100\n",
            "704/704 [==============================] - 1s 2ms/step - loss: 0.4311 - accuracy: 0.8205\n",
            "Epoch 86/100\n",
            "704/704 [==============================] - 1s 2ms/step - loss: 0.4304 - accuracy: 0.8206\n",
            "Epoch 87/100\n",
            "704/704 [==============================] - 1s 2ms/step - loss: 0.4305 - accuracy: 0.8200\n",
            "Epoch 88/100\n",
            "704/704 [==============================] - 1s 2ms/step - loss: 0.4307 - accuracy: 0.8202\n",
            "Epoch 89/100\n",
            "704/704 [==============================] - 1s 2ms/step - loss: 0.4303 - accuracy: 0.8199\n",
            "Epoch 90/100\n",
            "704/704 [==============================] - 1s 2ms/step - loss: 0.4307 - accuracy: 0.8206\n",
            "Epoch 91/100\n",
            "704/704 [==============================] - 1s 2ms/step - loss: 0.4309 - accuracy: 0.8210\n",
            "Epoch 92/100\n",
            "704/704 [==============================] - 1s 2ms/step - loss: 0.4308 - accuracy: 0.8194\n",
            "Epoch 93/100\n",
            "704/704 [==============================] - 2s 2ms/step - loss: 0.4300 - accuracy: 0.8212\n",
            "Epoch 94/100\n",
            "704/704 [==============================] - 2s 2ms/step - loss: 0.4304 - accuracy: 0.8212\n",
            "Epoch 95/100\n",
            "704/704 [==============================] - 1s 2ms/step - loss: 0.4307 - accuracy: 0.8197\n",
            "Epoch 96/100\n",
            "704/704 [==============================] - 1s 2ms/step - loss: 0.4301 - accuracy: 0.8209\n",
            "Epoch 97/100\n",
            "704/704 [==============================] - 1s 2ms/step - loss: 0.4303 - accuracy: 0.8196\n",
            "Epoch 98/100\n",
            "704/704 [==============================] - 1s 2ms/step - loss: 0.4300 - accuracy: 0.8191\n",
            "Epoch 99/100\n",
            "704/704 [==============================] - 2s 3ms/step - loss: 0.4302 - accuracy: 0.8201\n",
            "Epoch 100/100\n",
            "704/704 [==============================] - 2s 2ms/step - loss: 0.4302 - accuracy: 0.8209\n"
          ]
        }
      ],
      "source": [
        "# Fit the model using 100 epochs and the training data\n",
        "model = neuron.fit(X_train_scaled, y_train, epochs=100)\n"
      ]
    },
    {
      "cell_type": "markdown",
      "metadata": {
        "id": "STD74Ff-fC4t"
      },
      "source": [
        "## Step 4: Plot the model’s loss function and accuracy over the 100 epochs."
      ]
    },
    {
      "cell_type": "code",
      "execution_count": 16,
      "metadata": {
        "id": "I-nH4xUPfC4t"
      },
      "outputs": [],
      "source": [
        "# Create a DataFrame using the model history and an index parameter\n",
        "model_plot = pd.DataFrame(model.history, index=range(1, len(model.history['loss'])+1))\n",
        "\n"
      ]
    },
    {
      "cell_type": "code",
      "execution_count": 18,
      "metadata": {
        "colab": {
          "base_uri": "https://localhost:8080/",
          "height": 285
        },
        "id": "F5YQOA-LfC4t",
        "outputId": "dde63609-c915-47f1-d474-6cca6fab285e"
      },
      "outputs": [
        {
          "output_type": "execute_result",
          "data": {
            "text/plain": [
              "<matplotlib.axes._subplots.AxesSubplot at 0x7fd3a33d74c0>"
            ]
          },
          "metadata": {},
          "execution_count": 18
        },
        {
          "output_type": "display_data",
          "data": {
            "text/plain": [
              "<Figure size 432x288 with 1 Axes>"
            ],
            "image/png": "[encoded data removed]"
          },
          "metadata": {
            "needs_background": "light"
          }
        }
      ],
      "source": [
        "# Vizualize the model plot where the y-axis displays the loss metric\n",
        "model_plot.plot(y='loss')\n"
      ]
    },
    {
      "cell_type": "code",
      "execution_count": 19,
      "metadata": {
        "colab": {
          "base_uri": "https://localhost:8080/",
          "height": 283
        },
        "id": "0jOJOQ7CfC4t",
        "outputId": "5a4f300f-c3a7-4c3b-f14a-1b95df4349e8"
      },
      "outputs": [
        {
          "output_type": "execute_result",
          "data": {
            "text/plain": [
              "<matplotlib.axes._subplots.AxesSubplot at 0x7fd3a32b0100>"
            ]
          },
          "metadata": {},
          "execution_count": 19
        },
        {
          "output_type": "display_data",
          "data": {
            "text/plain": [
              "<Figure size 432x288 with 1 Axes>"
            ],
            "image/png": "[encoded data removed]"
          },
          "metadata": {
            "needs_background": "light"
          }
        }
      ],
      "source": [
        "# Vizualize the model plot where the y-axis displays the accuracy metric\n",
        "model_plot.plot(y='accuracy')\n"
      ]
    },
    {
      "cell_type": "markdown",
      "metadata": {
        "id": "NO2IovI_fC4t"
      },
      "source": [
        "## Step 5: Evaluate the model using testing data and the `evaluate` method."
      ]
    },
    {
      "cell_type": "code",
      "execution_count": 20,
      "metadata": {
        "colab": {
          "base_uri": "https://localhost:8080/"
        },
        "id": "vtTvIu1vfC4t",
        "outputId": "b7551133-c13b-4eea-d182-d2984146755d"
      },
      "outputs": [
        {
          "output_type": "stream",
          "name": "stdout",
          "text": [
            "235/235 - 0s - loss: 0.4397 - accuracy: 0.8156 - 452ms/epoch - 2ms/step\n",
            "loss: 0.4397279620170593, and accuracy is: 0.8155999779701233\n",
            "Loss: 0.4397279620170593, Accuracy: 0.8155999779701233\n"
          ]
        }
      ],
      "source": [
        "# Evaluate the model loss and accuracy metrics using the evaluate method and the test data\n",
        "#model_loss, model_accuracy = # YOUR CODE HERE\n",
        "model_loss, model_accuracy = neuron.evaluate(X_test_scaled, y_test, verbose=2)\n",
        "print(f\"loss: {model_loss}, and accuracy is: {model_accuracy}\")\n",
        "# Display the evaluation results\n",
        "print(f\"Loss: {model_loss}, Accuracy: {model_accuracy}\")"
      ]
    },
    {
      "cell_type": "code",
      "execution_count": null,
      "metadata": {
        "id": "kXP-X5b6fC4t"
      },
      "outputs": [],
      "source": []
    }
  ],
  "metadata": {
    "file_extension": ".py",
    "kernelspec": {
      "display_name": "Python (dev)",
      "language": "python",
      "name": "dev"
    },
    "language_info": {
      "codemirror_mode": {
        "name": "ipython",
        "version": 3
      },
      "file_extension": ".py",
      "mimetype": "text/x-python",
      "name": "python",
      "nbconvert_exporter": "python",
      "pygments_lexer": "ipython3",
      "version": "3.7.7"
    },
    "mimetype": "text/x-python",
    "name": "python",
    "npconvert_exporter": "python",
    "pygments_lexer": "ipython3",
    "version": 3,
    "colab": {
      "provenance": [],
      "include_colab_link": true
    }
  },
  "nbformat": 4,
  "nbformat_minor": 0
}