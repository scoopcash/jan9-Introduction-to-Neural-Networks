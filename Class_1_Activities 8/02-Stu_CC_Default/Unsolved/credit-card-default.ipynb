{
  "cells": [
    {
      "cell_type": "markdown",
      "source": [
        "# Preventing credit card defaults with neural networks\n",
        "\n",
        "In this activity, you will train a neural network model to predict whether a credit card holder will default in the next month.\n",
        "\n",
        "The dataset provided contains `30,000` anonymous records of credit default status with `23` features columns and one binary target column entitled _DEFAULT_, where `1` represents a defaulted credit card.\n",
        "\n",
        "The `23` features include demographic info (age, gender, marital status, etc.), credit limit, past payment details, and other relevant information.\n",
        "\n",
        "You are tasked to create a neural network model to predict if a credit card holder will default."
      ],
      "metadata": {}
    },
    {
      "cell_type": "code",
      "source": [
        "# Initial imports\n",
        "import pandas as pd\n",
        "from path import Path\n",
        "import tensorflow as tf\n",
        "from tensorflow.keras.layers import Dense\n",
        "from tensorflow.keras.models import Sequential\n",
        "from sklearn.preprocessing import StandardScaler\n",
        "from sklearn.model_selection import train_test_split\n",
        "\n",
        "%matplotlib inline"
      ],
      "outputs": [],
      "execution_count": null,
      "metadata": {}
    },
    {
      "cell_type": "code",
      "source": [
        "# Set a random seed for TensorFlow to allow reproducible testing results\n",
        "tf.random.set_seed(126)"
      ],
      "outputs": [],
      "execution_count": null,
      "metadata": {}
    },
    {
      "cell_type": "markdown",
      "source": [
        "## Instructions\n",
        "\n",
        "1. Load the data in a Pandas DataFrame."
      ],
      "metadata": {}
    },
    {
      "cell_type": "code",
      "source": [
        "# Read in data\n",
        "\n"
      ],
      "outputs": [],
      "execution_count": null,
      "metadata": {}
    },
    {
      "cell_type": "markdown",
      "source": [
        "2. Define the features set `X` by including all the columns of the DataFrame except the `DEFAULT` column."
      ],
      "metadata": {}
    },
    {
      "cell_type": "code",
      "source": [
        "# Define features data\n",
        "\n"
      ],
      "outputs": [],
      "execution_count": null,
      "metadata": {}
    },
    {
      "cell_type": "markdown",
      "source": [
        "3. Create the target vector `y` by assigning the values of the `DEFAULT` column of the DataFrame."
      ],
      "metadata": {}
    },
    {
      "cell_type": "code",
      "source": [
        "# Define target data\n",
        "\n"
      ],
      "outputs": [],
      "execution_count": null,
      "metadata": {}
    },
    {
      "cell_type": "markdown",
      "source": [
        "4. Create the training an testing sets using the `train_test_split` function from `sklearn`."
      ],
      "metadata": {}
    },
    {
      "cell_type": "code",
      "source": [
        "# Create training and testing datasets\n",
        "\n"
      ],
      "outputs": [],
      "execution_count": null,
      "metadata": {}
    },
    {
      "cell_type": "markdown",
      "source": [
        "5. Scale the features data using the `StandardScaler` from `sklearn`."
      ],
      "metadata": {}
    },
    {
      "cell_type": "code",
      "source": [
        "# Create the scaler instance\n",
        "\n"
      ],
      "outputs": [],
      "execution_count": null,
      "metadata": {}
    },
    {
      "cell_type": "code",
      "source": [
        "# Fit the scaler\n",
        "\n"
      ],
      "outputs": [],
      "execution_count": null,
      "metadata": {}
    },
    {
      "cell_type": "code",
      "source": [
        "# Scale the features data\n",
        "\n"
      ],
      "outputs": [],
      "execution_count": null,
      "metadata": {}
    },
    {
      "cell_type": "markdown",
      "source": [
        "6. Create a neural network model with `23` inputs, one hidden layer with `69` units, and an output layer with a single output. Use the `relu` activation function for the first layer and `sigmoid` for the second layer."
      ],
      "metadata": {}
    },
    {
      "cell_type": "code",
      "source": [
        "# Define the model\n",
        "number_inputs = 23\n",
        "number_hidden_nodes = 69\n",
        "\n"
      ],
      "outputs": [],
      "execution_count": null,
      "metadata": {}
    },
    {
      "cell_type": "markdown",
      "source": [
        "7. Compile the neural network model using the `binary_crossentropy` loss function, the `adam` optimizer, and `accuracy` as additional metric."
      ],
      "metadata": {}
    },
    {
      "cell_type": "code",
      "source": [
        "# Compile model\n",
        "\n"
      ],
      "outputs": [],
      "execution_count": null,
      "metadata": {}
    },
    {
      "cell_type": "markdown",
      "source": [
        "8. Fit the model with `100` epochs."
      ],
      "metadata": {}
    },
    {
      "cell_type": "code",
      "source": [
        "# Fit the model\n",
        "\n"
      ],
      "outputs": [],
      "execution_count": null,
      "metadata": {}
    },
    {
      "cell_type": "markdown",
      "source": [
        "9. Plot the loss function and accuracy."
      ],
      "metadata": {}
    },
    {
      "cell_type": "code",
      "source": [
        "# Create a DataFrame with the history dictionary\n",
        "\n",
        "\n",
        "# Plot the loss\n",
        "\n"
      ],
      "outputs": [],
      "execution_count": null,
      "metadata": {}
    },
    {
      "cell_type": "code",
      "source": [
        "# Plot the accuracy\n",
        "\n"
      ],
      "outputs": [],
      "execution_count": null,
      "metadata": {}
    },
    {
      "cell_type": "markdown",
      "source": [
        "10. Evaluate the model using testing data and the `evaluate` method."
      ],
      "metadata": {}
    },
    {
      "cell_type": "code",
      "source": [
        "# Evaluate the model fit with linear dummy data\n",
        "\n"
      ],
      "outputs": [],
      "execution_count": null,
      "metadata": {}
    },
    {
      "cell_type": "markdown",
      "source": [
        "## Challenge\n",
        "\n",
        "For this challenge section, you have to figure out how the model you created could be modified to improve the accuracy.\n",
        "\n",
        "1. Review the Keras documentation about activation functions, and decide if there is anyone that could be used instead of `sigmoid`.\n",
        "\n",
        "2. Add a second hidden layer with `69` units and use a different activation function than `sigmoid`.\n",
        "\n",
        "3. Change any other parameter that you believe could improve the model's accuracy.\n",
        "\n",
        "4. Evaluate the model's accuracy and loss and write down your conclusions."
      ],
      "metadata": {}
    },
    {
      "cell_type": "code",
      "source": [
        "# Define the model\n",
        "\n"
      ],
      "outputs": [],
      "execution_count": null,
      "metadata": {}
    },
    {
      "cell_type": "code",
      "source": [
        "# Compile model\n",
        "\n"
      ],
      "outputs": [],
      "execution_count": null,
      "metadata": {}
    },
    {
      "cell_type": "code",
      "source": [
        "# Fit the model\n",
        "\n"
      ],
      "outputs": [],
      "execution_count": null,
      "metadata": {}
    },
    {
      "cell_type": "code",
      "source": [
        "# Evaluate the model fit with linear dummy data\n",
        "\n"
      ],
      "outputs": [],
      "execution_count": null,
      "metadata": {}
    },
    {
      "cell_type": "markdown",
      "source": [
        "### Conclusions\n",
        "\n",
        "**Your Answer Here**"
      ],
      "metadata": {}
    }
  ],
  "metadata": {
    "pygments_lexer": "ipython3",
    "name": "python",
    "mimetype": "text/x-python",
    "npconvert_exporter": "python",
    "language_info": {
      "codemirror_mode": {
        "name": "ipython",
        "version": 3
      },
      "file_extension": ".py",
      "mimetype": "text/x-python",
      "name": "python",
      "nbconvert_exporter": "python",
      "pygments_lexer": "ipython3",
      "version": "3.7.6"
    },
    "version": 3,
    "kernelspec": {
      "display_name": "Python 3",
      "language": "python",
      "name": "python3"
    },
    "file_extension": ".py",
    "nteract": {
      "version": "0.28.0"
    }
  },
  "nbformat": 4,
  "nbformat_minor": 4
}